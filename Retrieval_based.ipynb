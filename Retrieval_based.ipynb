{
  "nbformat": 4,
  "nbformat_minor": 0,
  "metadata": {
    "colab": {
      "name": "Retrieval based",
      "provenance": [],
      "collapsed_sections": []
    },
    "kernelspec": {
      "name": "python3",
      "display_name": "Python 3"
    }
  },
  "cells": [
    {
      "cell_type": "markdown",
      "metadata": {
        "id": "K5y_I0O-5RMh"
      },
      "source": [
        "## Loading data and preliminary analysis"
      ]
    },
    {
      "cell_type": "code",
      "metadata": {
        "id": "YR-ilUaKO1mR"
      },
      "source": [
        "# import libraries\n",
        "\n",
        "import pandas as pd \n",
        "import numpy as np \n",
        "import matplotlib.pyplot as plt\n",
        "from pathlib import Path\n",
        "import string\n",
        "import re\n",
        "import joblib\n",
        "import json\n",
        "from collections import Counter\n",
        "import nltk\n",
        "from nltk.corpus import stopwords\n",
        "from nltk.stem import WordNetLemmatizer\n",
        "import pickle\n",
        "\n",
        "from tensorflow.keras.preprocessing.text import Tokenizer\n",
        "from tensorflow.keras.preprocessing.sequence import pad_sequences\n",
        "from tensorflow.keras.utils import plot_model\n",
        "from tensorflow.keras.models import Sequential, Model\n",
        "from tensorflow.keras.layers import Embedding, Dense, Flatten, Conv1D, MaxPooling1D, SimpleRNN, GRU, LSTM, LSTM, Input, Embedding, TimeDistributed, Flatten, Dropout,Bidirectional\n",
        "from tensorflow.keras.callbacks import ModelCheckpoint, EarlyStopping, ReduceLROnPlateau"
      ],
      "execution_count": 147,
      "outputs": []
    },
    {
      "cell_type": "code",
      "metadata": {
        "id": "zo9OE78qO9Pe"
      },
      "source": [
        "# download dependencies \n",
        "\n",
        "# uncomment if running for the first time\n",
        "# import nltk\n",
        "# nltk.download('stopwords')\n",
        "# nltk.download('wordnet')"
      ],
      "execution_count": 148,
      "outputs": []
    },
    {
      "cell_type": "code",
      "metadata": {
        "id": "EnLqRE6uS2Hb",
        "colab": {
          "base_uri": "https://localhost:8080/"
        },
        "outputId": "470b6d1a-7f26-4d8e-b60c-48e3db2e2991"
      },
      "source": [
        "# load data\n",
        "with open('mentalhealth.json') as file:\n",
        "  data = json.load(file)\n",
        "\n",
        "data"
      ],
      "execution_count": 149,
      "outputs": [
        {
          "output_type": "execute_result",
          "data": {
            "text/plain": [
              "{'intents': [{'context': [''],\n",
              "   'patterns': ['What does it mean to have a mental illness?',\n",
              "    'What is mental health illness',\n",
              "    'Describe mental health illness'],\n",
              "   'responses': [\"Mental illnesses are health conditions that disrupt a person's thoughts, emotions, relationships, and daily functioning.\"],\n",
              "   'tag': 'definition'},\n",
              "  {'context': [''],\n",
              "   'patterns': ['Who does mental illness affect?',\n",
              "    'Who is affected by mentall illness'],\n",
              "   'responses': ['It is estimated that mental illness affects 1 in 5 adults in America, and that 1 in 24 adults have a serious mental illness.'],\n",
              "   'tag': 'affects_whom'},\n",
              "  {'context': [''],\n",
              "   'patterns': ['What causes mental illness?',\n",
              "    'What leads to mental illness?',\n",
              "    'how does one get mentally ill?'],\n",
              "   'responses': ['Symptoms of mental health disorders vary depending on the type and severity of the condition.'],\n",
              "   'tag': 'what_causes'},\n",
              "  {'context': [''],\n",
              "   'patterns': ['Can people with mental illness recover?',\n",
              "    'Is it possible to recover from mental illness'],\n",
              "   'responses': ['When healing from mental illness, early identification and treatment are of vital importance. Based on the nature of the illness, there are a range of effective treatments available. For any type of treatment, it is essential that the person affected is proactive and fully engaged in their own recovery process. Many people with mental illnesses who are diagnosed and treated respond well, although some might experience a return of symptoms. Even in such cases, with careful monitoring and management of the disorder, it is still quite possible to live a fulfilled and productive life.'],\n",
              "   'tag': 'recover'},\n",
              "  {'context': [''],\n",
              "   'patterns': ['I know someone who appears to have such symptoms?',\n",
              "    'What are the steps to be followed incase of symptoms'],\n",
              "   'responses': [\"Although this website cannot substitute for professional advice, we encourage those with symptoms to talk to their friends and family members and seek the counsel of a mental health professional. The sooner the mental health condition is identified and treated, the sooner they can get on the path to recovery.If you know someone who is having problems, don't assume that the issue will resolve itself. Let them know that you care about them, and that there are treatment options available that will help them heal. Speak with a mental health professional or counselor if you think your friend or family member is experiencing the symptoms of a mental health condition. If the affected loved one knows that you support them, they will be more likely to seek out help.\"],\n",
              "   'tag': 'steps'},\n",
              "  {'context': [''],\n",
              "   'patterns': ['How to find mental health professional for myself',\n",
              "    'How to find mental health professional?'],\n",
              "   'responses': ['Feeling comfortable with the professional you or your child is working with is critical to the success of the treatment. Finding the professional who best fits your needs may require research. Start by searching for providers in your area.'],\n",
              "   'tag': 'find_help'},\n",
              "  {'context': [''],\n",
              "   'patterns': ['What treatment options are available?',\n",
              "    'How can one recover?'],\n",
              "   'responses': ['Just as there are different types of medications for physical illness, different treatment options are available for individuals with mental illness. Treatment works differently for different people. It is important to find what works best for you or your child.'],\n",
              "   'tag': 'treatement_options'},\n",
              "  {'context': [''],\n",
              "   'patterns': ['How to become involved in treatment?',\n",
              "    'What should I keep in mind if I begin treatment?'],\n",
              "   'responses': ['Since beginning treatment is a big step for individuals and families, it can be very overwhelming.'],\n",
              "   'tag': 'treatment_tips'},\n",
              "  {'context': [''],\n",
              "   'patterns': ['What is the difference between mental health professionals?',\n",
              "    'What are the different types of mental health professionals present?'],\n",
              "   'responses': ['There are many types of mental health professionals. The variety of providers and their services may be confusing. Each have various levels of education, training, and may have different areas of expertise. Finding the professional who best fits your needs may require some research.'],\n",
              "   'tag': 'professional_types'},\n",
              "  {'context': [''],\n",
              "   'patterns': ['How can I find a mental health professional right myself?',\n",
              "    'How to find the right mental health professional?'],\n",
              "   'responses': ['Feeling comfortable with the professional you or your child is working with is critical to the success of your treatment. Finding the professional who best fits your needs may require some research.'],\n",
              "   'tag': 'right_professional'}]}"
            ]
          },
          "metadata": {
            "tags": []
          },
          "execution_count": 149
        }
      ]
    },
    {
      "cell_type": "code",
      "metadata": {
        "id": "UHalec2-OgjC"
      },
      "source": [
        "# convert to dataframes \n",
        " \n",
        "def frame_data(feat_1,feat_2,is_pattern):\n",
        "  is_pattern = is_pattern\n",
        "  df = pd.DataFrame(columns=[feat_1,feat_2])\n",
        "  for intent in data['intents']:\n",
        "    if is_pattern:\n",
        "      for pattern in intent['patterns']:\n",
        "        w = pattern\n",
        "        df_to_append = pd.Series([w,intent['tag']], index = df.columns)\n",
        "        df = df.append(df_to_append,ignore_index=True)\n",
        "    else:\n",
        "      for response in intent['responses']:\n",
        "        w = response\n",
        "        df_to_append = pd.Series([w,intent['tag']], index = df.columns)\n",
        "        df = df.append(df_to_append,ignore_index=True)\n",
        "  return df"
      ],
      "execution_count": 150,
      "outputs": []
    },
    {
      "cell_type": "code",
      "metadata": {
        "colab": {
          "base_uri": "https://localhost:8080/",
          "height": 203
        },
        "id": "nzHe4LRwS7KL",
        "outputId": "ef19fb8a-89f4-42ea-e294-e32758e746ea"
      },
      "source": [
        "df1 = frame_data('questions','labels',True)\n",
        "df1.head()"
      ],
      "execution_count": 151,
      "outputs": [
        {
          "output_type": "execute_result",
          "data": {
            "text/html": [
              "<div>\n",
              "<style scoped>\n",
              "    .dataframe tbody tr th:only-of-type {\n",
              "        vertical-align: middle;\n",
              "    }\n",
              "\n",
              "    .dataframe tbody tr th {\n",
              "        vertical-align: top;\n",
              "    }\n",
              "\n",
              "    .dataframe thead th {\n",
              "        text-align: right;\n",
              "    }\n",
              "</style>\n",
              "<table border=\"1\" class=\"dataframe\">\n",
              "  <thead>\n",
              "    <tr style=\"text-align: right;\">\n",
              "      <th></th>\n",
              "      <th>questions</th>\n",
              "      <th>labels</th>\n",
              "    </tr>\n",
              "  </thead>\n",
              "  <tbody>\n",
              "    <tr>\n",
              "      <th>0</th>\n",
              "      <td>What does it mean to have a mental illness?</td>\n",
              "      <td>definition</td>\n",
              "    </tr>\n",
              "    <tr>\n",
              "      <th>1</th>\n",
              "      <td>What is mental health illness</td>\n",
              "      <td>definition</td>\n",
              "    </tr>\n",
              "    <tr>\n",
              "      <th>2</th>\n",
              "      <td>Describe mental health illness</td>\n",
              "      <td>definition</td>\n",
              "    </tr>\n",
              "    <tr>\n",
              "      <th>3</th>\n",
              "      <td>Who does mental illness affect?</td>\n",
              "      <td>affects_whom</td>\n",
              "    </tr>\n",
              "    <tr>\n",
              "      <th>4</th>\n",
              "      <td>Who is affected by mentall illness</td>\n",
              "      <td>affects_whom</td>\n",
              "    </tr>\n",
              "  </tbody>\n",
              "</table>\n",
              "</div>"
            ],
            "text/plain": [
              "                                     questions        labels\n",
              "0  What does it mean to have a mental illness?    definition\n",
              "1                What is mental health illness    definition\n",
              "2               Describe mental health illness    definition\n",
              "3              Who does mental illness affect?  affects_whom\n",
              "4           Who is affected by mentall illness  affects_whom"
            ]
          },
          "metadata": {
            "tags": []
          },
          "execution_count": 151
        }
      ]
    },
    {
      "cell_type": "code",
      "metadata": {
        "colab": {
          "base_uri": "https://localhost:8080/"
        },
        "id": "dBK6Wzi-S7GW",
        "outputId": "861808e1-063b-4d1f-b0d7-dd5564e2ee30"
      },
      "source": [
        "# no of patterns\n",
        "\n",
        "(df1.labels.value_counts(sort=False))"
      ],
      "execution_count": 152,
      "outputs": [
        {
          "output_type": "execute_result",
          "data": {
            "text/plain": [
              "find_help             2\n",
              "steps                 2\n",
              "what_causes           3\n",
              "right_professional    2\n",
              "definition            3\n",
              "affects_whom          2\n",
              "treatement_options    2\n",
              "professional_types    2\n",
              "recover               2\n",
              "treatment_tips        2\n",
              "Name: labels, dtype: int64"
            ]
          },
          "metadata": {
            "tags": []
          },
          "execution_count": 152
        }
      ]
    },
    {
      "cell_type": "code",
      "metadata": {
        "colab": {
          "base_uri": "https://localhost:8080/",
          "height": 203
        },
        "id": "me9oCoFmS7EI",
        "outputId": "730658df-9755-4b6f-fba7-68904e0f1ae0"
      },
      "source": [
        "df2 = frame_data('response','labels',False)\n",
        "df2.head()"
      ],
      "execution_count": 153,
      "outputs": [
        {
          "output_type": "execute_result",
          "data": {
            "text/html": [
              "<div>\n",
              "<style scoped>\n",
              "    .dataframe tbody tr th:only-of-type {\n",
              "        vertical-align: middle;\n",
              "    }\n",
              "\n",
              "    .dataframe tbody tr th {\n",
              "        vertical-align: top;\n",
              "    }\n",
              "\n",
              "    .dataframe thead th {\n",
              "        text-align: right;\n",
              "    }\n",
              "</style>\n",
              "<table border=\"1\" class=\"dataframe\">\n",
              "  <thead>\n",
              "    <tr style=\"text-align: right;\">\n",
              "      <th></th>\n",
              "      <th>response</th>\n",
              "      <th>labels</th>\n",
              "    </tr>\n",
              "  </thead>\n",
              "  <tbody>\n",
              "    <tr>\n",
              "      <th>0</th>\n",
              "      <td>Mental illnesses are health conditions that di...</td>\n",
              "      <td>definition</td>\n",
              "    </tr>\n",
              "    <tr>\n",
              "      <th>1</th>\n",
              "      <td>It is estimated that mental illness affects 1 ...</td>\n",
              "      <td>affects_whom</td>\n",
              "    </tr>\n",
              "    <tr>\n",
              "      <th>2</th>\n",
              "      <td>Symptoms of mental health disorders vary depen...</td>\n",
              "      <td>what_causes</td>\n",
              "    </tr>\n",
              "    <tr>\n",
              "      <th>3</th>\n",
              "      <td>When healing from mental illness, early identi...</td>\n",
              "      <td>recover</td>\n",
              "    </tr>\n",
              "    <tr>\n",
              "      <th>4</th>\n",
              "      <td>Although this website cannot substitute for pr...</td>\n",
              "      <td>steps</td>\n",
              "    </tr>\n",
              "  </tbody>\n",
              "</table>\n",
              "</div>"
            ],
            "text/plain": [
              "                                            response        labels\n",
              "0  Mental illnesses are health conditions that di...    definition\n",
              "1  It is estimated that mental illness affects 1 ...  affects_whom\n",
              "2  Symptoms of mental health disorders vary depen...   what_causes\n",
              "3  When healing from mental illness, early identi...       recover\n",
              "4  Although this website cannot substitute for pr...         steps"
            ]
          },
          "metadata": {
            "tags": []
          },
          "execution_count": 153
        }
      ]
    },
    {
      "cell_type": "markdown",
      "metadata": {
        "id": "Ja0_TgzN5Xya"
      },
      "source": [
        "## Data preprocessing"
      ]
    },
    {
      "cell_type": "code",
      "metadata": {
        "id": "YEVlJqEIR_ts"
      },
      "source": [
        "# preprocessing text\n",
        "\n",
        "lemmatizer = WordNetLemmatizer()\n",
        "\n",
        "vocab = Counter()\n",
        "labels = []\n",
        "def tokenizer(entry):\n",
        "    tokens = entry.split()\n",
        "    re_punc = re.compile('[%s]' % re.escape(string.punctuation))\n",
        "    tokens = [re_punc.sub('', w) for w in tokens]\n",
        "    tokens = [word for word in tokens if word.isalpha()]\n",
        "    tokens = [lemmatizer.lemmatize(w.lower()) for w in tokens]\n",
        "    tokens = [word.lower() for word in tokens if len(word) > 1]\n",
        "    return tokens\n",
        "\n",
        "def remove_stop_words(tokenizer,df,feature):\n",
        "    doc_without_stopwords = []\n",
        "    for entry in df[feature]:\n",
        "        tokens = tokenizer(entry)\n",
        "        joblib.dump(tokens,'tokens.pkl')\n",
        "        doc_without_stopwords.append(' '.join(tokens))\n",
        "    df[feature] = doc_without_stopwords\n",
        "    return"
      ],
      "execution_count": 154,
      "outputs": []
    },
    {
      "cell_type": "code",
      "metadata": {
        "id": "Jt61ZCG9UWN0"
      },
      "source": [
        "def create_vocab(tokenizer,df,feature):\n",
        "    for entry in df[feature]:\n",
        "        tokens = tokenizer(entry)   \n",
        "        vocab.update(tokens)\n",
        "    joblib.dump(vocab,'vocab.pkl')\n",
        "    return"
      ],
      "execution_count": 155,
      "outputs": []
    },
    {
      "cell_type": "code",
      "metadata": {
        "id": "emdwHIQcUWJ-"
      },
      "source": [
        "create_vocab(tokenizer,df1,'questions')"
      ],
      "execution_count": 156,
      "outputs": []
    },
    {
      "cell_type": "code",
      "metadata": {
        "colab": {
          "base_uri": "https://localhost:8080/"
        },
        "id": "IbK9OeYY0iWo",
        "outputId": "e058ceab-cdd4-4b40-eb08-ad9246b607d3"
      },
      "source": [
        "vocab"
      ],
      "execution_count": 157,
      "outputs": [
        {
          "output_type": "execute_result",
          "data": {
            "text/plain": [
              "Counter({'affect': 1,\n",
              "         'affected': 1,\n",
              "         'appears': 1,\n",
              "         'are': 3,\n",
              "         'available': 1,\n",
              "         'be': 1,\n",
              "         'become': 1,\n",
              "         'begin': 1,\n",
              "         'between': 1,\n",
              "         'by': 1,\n",
              "         'can': 3,\n",
              "         'cause': 1,\n",
              "         'describe': 1,\n",
              "         'difference': 1,\n",
              "         'different': 1,\n",
              "         'doe': 3,\n",
              "         'find': 4,\n",
              "         'followed': 1,\n",
              "         'for': 1,\n",
              "         'from': 1,\n",
              "         'get': 1,\n",
              "         'have': 2,\n",
              "         'health': 8,\n",
              "         'how': 7,\n",
              "         'if': 1,\n",
              "         'ill': 1,\n",
              "         'illness': 9,\n",
              "         'in': 2,\n",
              "         'incase': 1,\n",
              "         'involved': 1,\n",
              "         'is': 4,\n",
              "         'it': 2,\n",
              "         'keep': 1,\n",
              "         'know': 1,\n",
              "         'lead': 1,\n",
              "         'mean': 1,\n",
              "         'mental': 14,\n",
              "         'mentall': 1,\n",
              "         'mentally': 1,\n",
              "         'mind': 1,\n",
              "         'myself': 2,\n",
              "         'of': 2,\n",
              "         'one': 2,\n",
              "         'option': 1,\n",
              "         'people': 1,\n",
              "         'possible': 1,\n",
              "         'present': 1,\n",
              "         'professional': 6,\n",
              "         'recover': 3,\n",
              "         'right': 2,\n",
              "         'should': 1,\n",
              "         'someone': 1,\n",
              "         'step': 1,\n",
              "         'such': 1,\n",
              "         'symptom': 2,\n",
              "         'the': 4,\n",
              "         'to': 9,\n",
              "         'treatment': 3,\n",
              "         'type': 1,\n",
              "         'what': 9,\n",
              "         'who': 3,\n",
              "         'with': 1})"
            ]
          },
          "metadata": {
            "tags": []
          },
          "execution_count": 157
        }
      ]
    },
    {
      "cell_type": "code",
      "metadata": {
        "colab": {
          "base_uri": "https://localhost:8080/"
        },
        "id": "0_EER8ZWkpJU",
        "outputId": "0b272597-4ea5-44dd-f37a-2c7df0e8731a"
      },
      "source": [
        "vocab_size = len(vocab)\n",
        "vocab_size"
      ],
      "execution_count": 158,
      "outputs": [
        {
          "output_type": "execute_result",
          "data": {
            "text/plain": [
              "62"
            ]
          },
          "metadata": {
            "tags": []
          },
          "execution_count": 158
        }
      ]
    },
    {
      "cell_type": "code",
      "metadata": {
        "colab": {
          "base_uri": "https://localhost:8080/"
        },
        "id": "q2S6fc7iV5Fl",
        "outputId": "23324a36-3505-45b6-a5cc-2e48ac3da410"
      },
      "source": [
        "df1.groupby(by='labels',as_index=False).first()['questions']"
      ],
      "execution_count": 159,
      "outputs": [
        {
          "output_type": "execute_result",
          "data": {
            "text/plain": [
              "0                      Who does mental illness affect?\n",
              "1          What does it mean to have a mental illness?\n",
              "2    How to find mental health professional for myself\n",
              "3    What is the difference between mental health p...\n",
              "4              Can people with mental illness recover?\n",
              "5    How can I find a mental health professional ri...\n",
              "6    I know someone who appears to have such symptoms?\n",
              "7                What treatment options are available?\n",
              "8                 How to become involved in treatment?\n",
              "9                          What causes mental illness?\n",
              "Name: questions, dtype: object"
            ]
          },
          "metadata": {
            "tags": []
          },
          "execution_count": 159
        }
      ]
    },
    {
      "cell_type": "code",
      "metadata": {
        "colab": {
          "base_uri": "https://localhost:8080/"
        },
        "id": "flmw4NGyR_o1",
        "outputId": "63f1c0f6-4587-4093-ed72-f3213e5449e4"
      },
      "source": [
        "# test_list contains the first element of questions\n",
        "\n",
        "test_list = list(df1.groupby(by='labels',as_index=False).first()['questions'])\n",
        "test_list"
      ],
      "execution_count": 160,
      "outputs": [
        {
          "output_type": "execute_result",
          "data": {
            "text/plain": [
              "['Who does mental illness affect?',\n",
              " 'What does it mean to have a mental illness?',\n",
              " 'How to find mental health professional for myself',\n",
              " 'What is the difference between mental health professionals?',\n",
              " 'Can people with mental illness recover?',\n",
              " 'How can I find a mental health professional right myself?',\n",
              " 'I know someone who appears to have such symptoms?',\n",
              " 'What treatment options are available?',\n",
              " 'How to become involved in treatment?',\n",
              " 'What causes mental illness?']"
            ]
          },
          "metadata": {
            "tags": []
          },
          "execution_count": 160
        }
      ]
    },
    {
      "cell_type": "code",
      "metadata": {
        "colab": {
          "base_uri": "https://localhost:8080/"
        },
        "id": "MNtMUqJQUs9U",
        "outputId": "033574e0-71f2-411b-8bc6-6ae9557fd3c5"
      },
      "source": [
        "# indices of the testing dataset\n",
        "\n",
        "test_index = []\n",
        "for i,_ in enumerate(test_list):\n",
        "    idx = df1[df1.questions == test_list[i]].index[0]\n",
        "    test_index.append(idx)\n",
        "test_index"
      ],
      "execution_count": 161,
      "outputs": [
        {
          "output_type": "execute_result",
          "data": {
            "text/plain": [
              "[3, 0, 12, 18, 8, 20, 10, 14, 16, 5]"
            ]
          },
          "metadata": {
            "tags": []
          },
          "execution_count": 161
        }
      ]
    },
    {
      "cell_type": "code",
      "metadata": {
        "id": "Reko6L-LUs6e",
        "colab": {
          "base_uri": "https://localhost:8080/"
        },
        "outputId": "30ace821-537d-4573-980b-787511baabf6"
      },
      "source": [
        "# train indices are the all indices minus the testing indices \n",
        "\n",
        "train_index = [i for i in df1.index if i not in test_index]\n",
        "train_index "
      ],
      "execution_count": 162,
      "outputs": [
        {
          "output_type": "execute_result",
          "data": {
            "text/plain": [
              "[1, 2, 4, 6, 7, 9, 11, 13, 15, 17, 19, 21]"
            ]
          },
          "metadata": {
            "tags": []
          },
          "execution_count": 162
        }
      ]
    },
    {
      "cell_type": "code",
      "metadata": {
        "id": "u-ksA3SrUs3a"
      },
      "source": [
        "def convert_seq(df,feature):\n",
        "#     text = ' '.join(list(vocab.keys()))\n",
        "    t = Tokenizer()\n",
        "    entries = [entry for entry in df[feature]]\n",
        "    print(entries)\n",
        "    print('----')\n",
        "    t.fit_on_texts(entries)\n",
        "    joblib.dump(t,'tokenizer_t.pkl')   # why a pkl file\n",
        "    vocab_size = len(t.word_index) +1 # +1 for oov \n",
        "    print(t.word_index)\n",
        "    entries = [entry for entry in df[feature]]\n",
        "    max_length = max([len(s.split()) for s in entries])\n",
        "    print('----')\n",
        "    print(\"max length of string is : \",max_length)\n",
        "    print('----')\n",
        "    encoded = t.texts_to_sequences(entries)\n",
        "    print(encoded)\n",
        "    padded = pad_sequences(encoded, maxlen=max_length, padding='post')\n",
        "    print('----')\n",
        "    print(padded)\n",
        "    return padded, vocab_size"
      ],
      "execution_count": 163,
      "outputs": []
    },
    {
      "cell_type": "markdown",
      "metadata": {
        "id": "VjFFIlul53UZ"
      },
      "source": [
        "**fit_on_texts** updates internal vocabulary based on a list of texts. This method creates the vocabulary index based on word frequency. 0 is reserved for padding. So lower integer means more frequent word (often the first few are stop words because they appear a lot)."
      ]
    },
    {
      "cell_type": "markdown",
      "metadata": {
        "id": "z5a_RLov7R2s"
      },
      "source": [
        "Now that we have a vocabulary of words in the dataset, **each of the patterns can be encoded into numerical features for modeling, using any of the common text encoding techniques—count vectorizer**, term frequency-inverse document frequency (TF-IDF), hashing, etc.\n",
        "\n",
        "Using TensorFlow.Keras text_to_sequence, we can **encode each pattern corpus to vectorize a text corpus by turning each text into either a sequence of integers** (each integer being the index of a token in a dictionary) or into a vector where the coefficient for each token could be binary, based on word count which is based on TF-IDF. The resulting vectors will be post-padded with zeros so as to equal the length of the vectors."
      ]
    },
    {
      "cell_type": "code",
      "metadata": {
        "id": "GP07TFsDUs0e",
        "colab": {
          "base_uri": "https://localhost:8080/"
        },
        "outputId": "7c2ace6d-31ad-464f-edb9-e0e606ad1f82"
      },
      "source": [
        "X,vocab_size = convert_seq(df1,'questions')"
      ],
      "execution_count": 164,
      "outputs": [
        {
          "output_type": "stream",
          "text": [
            "['What does it mean to have a mental illness?', 'What is mental health illness', 'Describe mental health illness', 'Who does mental illness affect?', 'Who is affected by mentall illness', 'What causes mental illness?', 'What leads to mental illness?', 'how does one get mentally ill?', 'Can people with mental illness recover?', 'Is it possible to recover from mental illness', 'I know someone who appears to have such symptoms?', 'What are the steps to be followed incase of symptoms', 'How to find mental health professional for myself', 'How to find mental health professional?', 'What treatment options are available?', 'How can one recover?', 'How to become involved in treatment?', 'What should I keep in mind if I begin treatment?', 'What is the difference between mental health professionals?', 'What are the different types of mental health professionals present?', 'How can I find a mental health professional right myself?', 'How to find the right mental health professional?']\n",
            "----\n",
            "{'mental': 1, 'what': 2, 'to': 3, 'illness': 4, 'health': 5, 'how': 6, 'is': 7, 'i': 8, 'the': 9, 'find': 10, 'professional': 11, 'does': 12, 'who': 13, 'can': 14, 'recover': 15, 'are': 16, 'treatment': 17, 'it': 18, 'have': 19, 'a': 20, 'one': 21, 'symptoms': 22, 'of': 23, 'myself': 24, 'in': 25, 'professionals': 26, 'right': 27, 'mean': 28, 'describe': 29, 'affect': 30, 'affected': 31, 'by': 32, 'mentall': 33, 'causes': 34, 'leads': 35, 'get': 36, 'mentally': 37, 'ill': 38, 'people': 39, 'with': 40, 'possible': 41, 'from': 42, 'know': 43, 'someone': 44, 'appears': 45, 'such': 46, 'steps': 47, 'be': 48, 'followed': 49, 'incase': 50, 'for': 51, 'options': 52, 'available': 53, 'become': 54, 'involved': 55, 'should': 56, 'keep': 57, 'mind': 58, 'if': 59, 'begin': 60, 'difference': 61, 'between': 62, 'different': 63, 'types': 64, 'present': 65}\n",
            "----\n",
            "max length of string is :  10\n",
            "----\n",
            "[[2, 12, 18, 28, 3, 19, 20, 1, 4], [2, 7, 1, 5, 4], [29, 1, 5, 4], [13, 12, 1, 4, 30], [13, 7, 31, 32, 33, 4], [2, 34, 1, 4], [2, 35, 3, 1, 4], [6, 12, 21, 36, 37, 38], [14, 39, 40, 1, 4, 15], [7, 18, 41, 3, 15, 42, 1, 4], [8, 43, 44, 13, 45, 3, 19, 46, 22], [2, 16, 9, 47, 3, 48, 49, 50, 23, 22], [6, 3, 10, 1, 5, 11, 51, 24], [6, 3, 10, 1, 5, 11], [2, 17, 52, 16, 53], [6, 14, 21, 15], [6, 3, 54, 55, 25, 17], [2, 56, 8, 57, 25, 58, 59, 8, 60, 17], [2, 7, 9, 61, 62, 1, 5, 26], [2, 16, 9, 63, 64, 23, 1, 5, 26, 65], [6, 14, 8, 10, 20, 1, 5, 11, 27, 24], [6, 3, 10, 9, 27, 1, 5, 11]]\n",
            "----\n",
            "[[ 2 12 18 28  3 19 20  1  4  0]\n",
            " [ 2  7  1  5  4  0  0  0  0  0]\n",
            " [29  1  5  4  0  0  0  0  0  0]\n",
            " [13 12  1  4 30  0  0  0  0  0]\n",
            " [13  7 31 32 33  4  0  0  0  0]\n",
            " [ 2 34  1  4  0  0  0  0  0  0]\n",
            " [ 2 35  3  1  4  0  0  0  0  0]\n",
            " [ 6 12 21 36 37 38  0  0  0  0]\n",
            " [14 39 40  1  4 15  0  0  0  0]\n",
            " [ 7 18 41  3 15 42  1  4  0  0]\n",
            " [ 8 43 44 13 45  3 19 46 22  0]\n",
            " [ 2 16  9 47  3 48 49 50 23 22]\n",
            " [ 6  3 10  1  5 11 51 24  0  0]\n",
            " [ 6  3 10  1  5 11  0  0  0  0]\n",
            " [ 2 17 52 16 53  0  0  0  0  0]\n",
            " [ 6 14 21 15  0  0  0  0  0  0]\n",
            " [ 6  3 54 55 25 17  0  0  0  0]\n",
            " [ 2 56  8 57 25 58 59  8 60 17]\n",
            " [ 2  7  9 61 62  1  5 26  0  0]\n",
            " [ 2 16  9 63 64 23  1  5 26 65]\n",
            " [ 6 14  8 10 20  1  5 11 27 24]\n",
            " [ 6  3 10  9 27  1  5 11  0  0]]\n"
          ],
          "name": "stdout"
        }
      ]
    },
    {
      "cell_type": "code",
      "metadata": {
        "id": "TjqSgtug5uSU"
      },
      "source": [
        "with open('tokenizer_t.pkl', 'rb') as f:\n",
        "    data = pickle.load(f)"
      ],
      "execution_count": 165,
      "outputs": []
    },
    {
      "cell_type": "code",
      "metadata": {
        "colab": {
          "base_uri": "https://localhost:8080/"
        },
        "id": "Ww0VWLGV6WDo",
        "outputId": "590e3660-78a5-4e56-fac3-3585f7a55cae"
      },
      "source": [
        "data.index_word"
      ],
      "execution_count": 166,
      "outputs": [
        {
          "output_type": "execute_result",
          "data": {
            "text/plain": [
              "{1: 'mental',\n",
              " 2: 'what',\n",
              " 3: 'to',\n",
              " 4: 'illness',\n",
              " 5: 'health',\n",
              " 6: 'how',\n",
              " 7: 'is',\n",
              " 8: 'i',\n",
              " 9: 'the',\n",
              " 10: 'find',\n",
              " 11: 'professional',\n",
              " 12: 'does',\n",
              " 13: 'who',\n",
              " 14: 'can',\n",
              " 15: 'recover',\n",
              " 16: 'are',\n",
              " 17: 'treatment',\n",
              " 18: 'it',\n",
              " 19: 'have',\n",
              " 20: 'a',\n",
              " 21: 'one',\n",
              " 22: 'symptoms',\n",
              " 23: 'of',\n",
              " 24: 'myself',\n",
              " 25: 'in',\n",
              " 26: 'professionals',\n",
              " 27: 'right',\n",
              " 28: 'mean',\n",
              " 29: 'describe',\n",
              " 30: 'affect',\n",
              " 31: 'affected',\n",
              " 32: 'by',\n",
              " 33: 'mentall',\n",
              " 34: 'causes',\n",
              " 35: 'leads',\n",
              " 36: 'get',\n",
              " 37: 'mentally',\n",
              " 38: 'ill',\n",
              " 39: 'people',\n",
              " 40: 'with',\n",
              " 41: 'possible',\n",
              " 42: 'from',\n",
              " 43: 'know',\n",
              " 44: 'someone',\n",
              " 45: 'appears',\n",
              " 46: 'such',\n",
              " 47: 'steps',\n",
              " 48: 'be',\n",
              " 49: 'followed',\n",
              " 50: 'incase',\n",
              " 51: 'for',\n",
              " 52: 'options',\n",
              " 53: 'available',\n",
              " 54: 'become',\n",
              " 55: 'involved',\n",
              " 56: 'should',\n",
              " 57: 'keep',\n",
              " 58: 'mind',\n",
              " 59: 'if',\n",
              " 60: 'begin',\n",
              " 61: 'difference',\n",
              " 62: 'between',\n",
              " 63: 'different',\n",
              " 64: 'types',\n",
              " 65: 'present'}"
            ]
          },
          "metadata": {
            "tags": []
          },
          "execution_count": 166
        }
      ]
    },
    {
      "cell_type": "code",
      "metadata": {
        "id": "4TKUtsd851W4",
        "colab": {
          "base_uri": "https://localhost:8080/"
        },
        "outputId": "a5e422af-11a5-4bdb-ddfc-f0784fa84e4f"
      },
      "source": [
        "data.word_counts"
      ],
      "execution_count": 167,
      "outputs": [
        {
          "output_type": "execute_result",
          "data": {
            "text/plain": [
              "OrderedDict([('what', 9),\n",
              "             ('does', 3),\n",
              "             ('it', 2),\n",
              "             ('mean', 1),\n",
              "             ('to', 9),\n",
              "             ('have', 2),\n",
              "             ('a', 2),\n",
              "             ('mental', 14),\n",
              "             ('illness', 9),\n",
              "             ('is', 4),\n",
              "             ('health', 8),\n",
              "             ('describe', 1),\n",
              "             ('who', 3),\n",
              "             ('affect', 1),\n",
              "             ('affected', 1),\n",
              "             ('by', 1),\n",
              "             ('mentall', 1),\n",
              "             ('causes', 1),\n",
              "             ('leads', 1),\n",
              "             ('how', 7),\n",
              "             ('one', 2),\n",
              "             ('get', 1),\n",
              "             ('mentally', 1),\n",
              "             ('ill', 1),\n",
              "             ('can', 3),\n",
              "             ('people', 1),\n",
              "             ('with', 1),\n",
              "             ('recover', 3),\n",
              "             ('possible', 1),\n",
              "             ('from', 1),\n",
              "             ('i', 4),\n",
              "             ('know', 1),\n",
              "             ('someone', 1),\n",
              "             ('appears', 1),\n",
              "             ('such', 1),\n",
              "             ('symptoms', 2),\n",
              "             ('are', 3),\n",
              "             ('the', 4),\n",
              "             ('steps', 1),\n",
              "             ('be', 1),\n",
              "             ('followed', 1),\n",
              "             ('incase', 1),\n",
              "             ('of', 2),\n",
              "             ('find', 4),\n",
              "             ('professional', 4),\n",
              "             ('for', 1),\n",
              "             ('myself', 2),\n",
              "             ('treatment', 3),\n",
              "             ('options', 1),\n",
              "             ('available', 1),\n",
              "             ('become', 1),\n",
              "             ('involved', 1),\n",
              "             ('in', 2),\n",
              "             ('should', 1),\n",
              "             ('keep', 1),\n",
              "             ('mind', 1),\n",
              "             ('if', 1),\n",
              "             ('begin', 1),\n",
              "             ('difference', 1),\n",
              "             ('between', 1),\n",
              "             ('professionals', 2),\n",
              "             ('different', 1),\n",
              "             ('types', 1),\n",
              "             ('present', 1),\n",
              "             ('right', 2)])"
            ]
          },
          "metadata": {
            "tags": []
          },
          "execution_count": 167
        }
      ]
    },
    {
      "cell_type": "code",
      "metadata": {
        "colab": {
          "base_uri": "https://localhost:8080/"
        },
        "id": "gExivERw6WdD",
        "outputId": "9f90dcea-abdc-4aff-cd32-e27616f2ddbe"
      },
      "source": [
        "X"
      ],
      "execution_count": 168,
      "outputs": [
        {
          "output_type": "execute_result",
          "data": {
            "text/plain": [
              "array([[ 2, 12, 18, 28,  3, 19, 20,  1,  4,  0],\n",
              "       [ 2,  7,  1,  5,  4,  0,  0,  0,  0,  0],\n",
              "       [29,  1,  5,  4,  0,  0,  0,  0,  0,  0],\n",
              "       [13, 12,  1,  4, 30,  0,  0,  0,  0,  0],\n",
              "       [13,  7, 31, 32, 33,  4,  0,  0,  0,  0],\n",
              "       [ 2, 34,  1,  4,  0,  0,  0,  0,  0,  0],\n",
              "       [ 2, 35,  3,  1,  4,  0,  0,  0,  0,  0],\n",
              "       [ 6, 12, 21, 36, 37, 38,  0,  0,  0,  0],\n",
              "       [14, 39, 40,  1,  4, 15,  0,  0,  0,  0],\n",
              "       [ 7, 18, 41,  3, 15, 42,  1,  4,  0,  0],\n",
              "       [ 8, 43, 44, 13, 45,  3, 19, 46, 22,  0],\n",
              "       [ 2, 16,  9, 47,  3, 48, 49, 50, 23, 22],\n",
              "       [ 6,  3, 10,  1,  5, 11, 51, 24,  0,  0],\n",
              "       [ 6,  3, 10,  1,  5, 11,  0,  0,  0,  0],\n",
              "       [ 2, 17, 52, 16, 53,  0,  0,  0,  0,  0],\n",
              "       [ 6, 14, 21, 15,  0,  0,  0,  0,  0,  0],\n",
              "       [ 6,  3, 54, 55, 25, 17,  0,  0,  0,  0],\n",
              "       [ 2, 56,  8, 57, 25, 58, 59,  8, 60, 17],\n",
              "       [ 2,  7,  9, 61, 62,  1,  5, 26,  0,  0],\n",
              "       [ 2, 16,  9, 63, 64, 23,  1,  5, 26, 65],\n",
              "       [ 6, 14,  8, 10, 20,  1,  5, 11, 27, 24],\n",
              "       [ 6,  3, 10,  9, 27,  1,  5, 11,  0,  0]], dtype=int32)"
            ]
          },
          "metadata": {
            "tags": []
          },
          "execution_count": 168
        }
      ]
    },
    {
      "cell_type": "code",
      "metadata": {
        "colab": {
          "base_uri": "https://localhost:8080/"
        },
        "id": "bimUOhFb6Y_9",
        "outputId": "91159b95-22dd-4f6f-a8bd-17d10ebf9c0f"
      },
      "source": [
        "vocab_size"
      ],
      "execution_count": 169,
      "outputs": [
        {
          "output_type": "execute_result",
          "data": {
            "text/plain": [
              "66"
            ]
          },
          "metadata": {
            "tags": []
          },
          "execution_count": 169
        }
      ]
    },
    {
      "cell_type": "code",
      "metadata": {
        "id": "4cKWHDabXLg_"
      },
      "source": [
        "df_encoded = pd.DataFrame(X)"
      ],
      "execution_count": 170,
      "outputs": []
    },
    {
      "cell_type": "code",
      "metadata": {
        "colab": {
          "base_uri": "https://localhost:8080/",
          "height": 726
        },
        "id": "wfjo-4088OnX",
        "outputId": "d6f6a60e-7f8e-40f5-ca50-69062a34d4fa"
      },
      "source": [
        "df_encoded"
      ],
      "execution_count": 171,
      "outputs": [
        {
          "output_type": "execute_result",
          "data": {
            "text/html": [
              "<div>\n",
              "<style scoped>\n",
              "    .dataframe tbody tr th:only-of-type {\n",
              "        vertical-align: middle;\n",
              "    }\n",
              "\n",
              "    .dataframe tbody tr th {\n",
              "        vertical-align: top;\n",
              "    }\n",
              "\n",
              "    .dataframe thead th {\n",
              "        text-align: right;\n",
              "    }\n",
              "</style>\n",
              "<table border=\"1\" class=\"dataframe\">\n",
              "  <thead>\n",
              "    <tr style=\"text-align: right;\">\n",
              "      <th></th>\n",
              "      <th>0</th>\n",
              "      <th>1</th>\n",
              "      <th>2</th>\n",
              "      <th>3</th>\n",
              "      <th>4</th>\n",
              "      <th>5</th>\n",
              "      <th>6</th>\n",
              "      <th>7</th>\n",
              "      <th>8</th>\n",
              "      <th>9</th>\n",
              "    </tr>\n",
              "  </thead>\n",
              "  <tbody>\n",
              "    <tr>\n",
              "      <th>0</th>\n",
              "      <td>2</td>\n",
              "      <td>12</td>\n",
              "      <td>18</td>\n",
              "      <td>28</td>\n",
              "      <td>3</td>\n",
              "      <td>19</td>\n",
              "      <td>20</td>\n",
              "      <td>1</td>\n",
              "      <td>4</td>\n",
              "      <td>0</td>\n",
              "    </tr>\n",
              "    <tr>\n",
              "      <th>1</th>\n",
              "      <td>2</td>\n",
              "      <td>7</td>\n",
              "      <td>1</td>\n",
              "      <td>5</td>\n",
              "      <td>4</td>\n",
              "      <td>0</td>\n",
              "      <td>0</td>\n",
              "      <td>0</td>\n",
              "      <td>0</td>\n",
              "      <td>0</td>\n",
              "    </tr>\n",
              "    <tr>\n",
              "      <th>2</th>\n",
              "      <td>29</td>\n",
              "      <td>1</td>\n",
              "      <td>5</td>\n",
              "      <td>4</td>\n",
              "      <td>0</td>\n",
              "      <td>0</td>\n",
              "      <td>0</td>\n",
              "      <td>0</td>\n",
              "      <td>0</td>\n",
              "      <td>0</td>\n",
              "    </tr>\n",
              "    <tr>\n",
              "      <th>3</th>\n",
              "      <td>13</td>\n",
              "      <td>12</td>\n",
              "      <td>1</td>\n",
              "      <td>4</td>\n",
              "      <td>30</td>\n",
              "      <td>0</td>\n",
              "      <td>0</td>\n",
              "      <td>0</td>\n",
              "      <td>0</td>\n",
              "      <td>0</td>\n",
              "    </tr>\n",
              "    <tr>\n",
              "      <th>4</th>\n",
              "      <td>13</td>\n",
              "      <td>7</td>\n",
              "      <td>31</td>\n",
              "      <td>32</td>\n",
              "      <td>33</td>\n",
              "      <td>4</td>\n",
              "      <td>0</td>\n",
              "      <td>0</td>\n",
              "      <td>0</td>\n",
              "      <td>0</td>\n",
              "    </tr>\n",
              "    <tr>\n",
              "      <th>5</th>\n",
              "      <td>2</td>\n",
              "      <td>34</td>\n",
              "      <td>1</td>\n",
              "      <td>4</td>\n",
              "      <td>0</td>\n",
              "      <td>0</td>\n",
              "      <td>0</td>\n",
              "      <td>0</td>\n",
              "      <td>0</td>\n",
              "      <td>0</td>\n",
              "    </tr>\n",
              "    <tr>\n",
              "      <th>6</th>\n",
              "      <td>2</td>\n",
              "      <td>35</td>\n",
              "      <td>3</td>\n",
              "      <td>1</td>\n",
              "      <td>4</td>\n",
              "      <td>0</td>\n",
              "      <td>0</td>\n",
              "      <td>0</td>\n",
              "      <td>0</td>\n",
              "      <td>0</td>\n",
              "    </tr>\n",
              "    <tr>\n",
              "      <th>7</th>\n",
              "      <td>6</td>\n",
              "      <td>12</td>\n",
              "      <td>21</td>\n",
              "      <td>36</td>\n",
              "      <td>37</td>\n",
              "      <td>38</td>\n",
              "      <td>0</td>\n",
              "      <td>0</td>\n",
              "      <td>0</td>\n",
              "      <td>0</td>\n",
              "    </tr>\n",
              "    <tr>\n",
              "      <th>8</th>\n",
              "      <td>14</td>\n",
              "      <td>39</td>\n",
              "      <td>40</td>\n",
              "      <td>1</td>\n",
              "      <td>4</td>\n",
              "      <td>15</td>\n",
              "      <td>0</td>\n",
              "      <td>0</td>\n",
              "      <td>0</td>\n",
              "      <td>0</td>\n",
              "    </tr>\n",
              "    <tr>\n",
              "      <th>9</th>\n",
              "      <td>7</td>\n",
              "      <td>18</td>\n",
              "      <td>41</td>\n",
              "      <td>3</td>\n",
              "      <td>15</td>\n",
              "      <td>42</td>\n",
              "      <td>1</td>\n",
              "      <td>4</td>\n",
              "      <td>0</td>\n",
              "      <td>0</td>\n",
              "    </tr>\n",
              "    <tr>\n",
              "      <th>10</th>\n",
              "      <td>8</td>\n",
              "      <td>43</td>\n",
              "      <td>44</td>\n",
              "      <td>13</td>\n",
              "      <td>45</td>\n",
              "      <td>3</td>\n",
              "      <td>19</td>\n",
              "      <td>46</td>\n",
              "      <td>22</td>\n",
              "      <td>0</td>\n",
              "    </tr>\n",
              "    <tr>\n",
              "      <th>11</th>\n",
              "      <td>2</td>\n",
              "      <td>16</td>\n",
              "      <td>9</td>\n",
              "      <td>47</td>\n",
              "      <td>3</td>\n",
              "      <td>48</td>\n",
              "      <td>49</td>\n",
              "      <td>50</td>\n",
              "      <td>23</td>\n",
              "      <td>22</td>\n",
              "    </tr>\n",
              "    <tr>\n",
              "      <th>12</th>\n",
              "      <td>6</td>\n",
              "      <td>3</td>\n",
              "      <td>10</td>\n",
              "      <td>1</td>\n",
              "      <td>5</td>\n",
              "      <td>11</td>\n",
              "      <td>51</td>\n",
              "      <td>24</td>\n",
              "      <td>0</td>\n",
              "      <td>0</td>\n",
              "    </tr>\n",
              "    <tr>\n",
              "      <th>13</th>\n",
              "      <td>6</td>\n",
              "      <td>3</td>\n",
              "      <td>10</td>\n",
              "      <td>1</td>\n",
              "      <td>5</td>\n",
              "      <td>11</td>\n",
              "      <td>0</td>\n",
              "      <td>0</td>\n",
              "      <td>0</td>\n",
              "      <td>0</td>\n",
              "    </tr>\n",
              "    <tr>\n",
              "      <th>14</th>\n",
              "      <td>2</td>\n",
              "      <td>17</td>\n",
              "      <td>52</td>\n",
              "      <td>16</td>\n",
              "      <td>53</td>\n",
              "      <td>0</td>\n",
              "      <td>0</td>\n",
              "      <td>0</td>\n",
              "      <td>0</td>\n",
              "      <td>0</td>\n",
              "    </tr>\n",
              "    <tr>\n",
              "      <th>15</th>\n",
              "      <td>6</td>\n",
              "      <td>14</td>\n",
              "      <td>21</td>\n",
              "      <td>15</td>\n",
              "      <td>0</td>\n",
              "      <td>0</td>\n",
              "      <td>0</td>\n",
              "      <td>0</td>\n",
              "      <td>0</td>\n",
              "      <td>0</td>\n",
              "    </tr>\n",
              "    <tr>\n",
              "      <th>16</th>\n",
              "      <td>6</td>\n",
              "      <td>3</td>\n",
              "      <td>54</td>\n",
              "      <td>55</td>\n",
              "      <td>25</td>\n",
              "      <td>17</td>\n",
              "      <td>0</td>\n",
              "      <td>0</td>\n",
              "      <td>0</td>\n",
              "      <td>0</td>\n",
              "    </tr>\n",
              "    <tr>\n",
              "      <th>17</th>\n",
              "      <td>2</td>\n",
              "      <td>56</td>\n",
              "      <td>8</td>\n",
              "      <td>57</td>\n",
              "      <td>25</td>\n",
              "      <td>58</td>\n",
              "      <td>59</td>\n",
              "      <td>8</td>\n",
              "      <td>60</td>\n",
              "      <td>17</td>\n",
              "    </tr>\n",
              "    <tr>\n",
              "      <th>18</th>\n",
              "      <td>2</td>\n",
              "      <td>7</td>\n",
              "      <td>9</td>\n",
              "      <td>61</td>\n",
              "      <td>62</td>\n",
              "      <td>1</td>\n",
              "      <td>5</td>\n",
              "      <td>26</td>\n",
              "      <td>0</td>\n",
              "      <td>0</td>\n",
              "    </tr>\n",
              "    <tr>\n",
              "      <th>19</th>\n",
              "      <td>2</td>\n",
              "      <td>16</td>\n",
              "      <td>9</td>\n",
              "      <td>63</td>\n",
              "      <td>64</td>\n",
              "      <td>23</td>\n",
              "      <td>1</td>\n",
              "      <td>5</td>\n",
              "      <td>26</td>\n",
              "      <td>65</td>\n",
              "    </tr>\n",
              "    <tr>\n",
              "      <th>20</th>\n",
              "      <td>6</td>\n",
              "      <td>14</td>\n",
              "      <td>8</td>\n",
              "      <td>10</td>\n",
              "      <td>20</td>\n",
              "      <td>1</td>\n",
              "      <td>5</td>\n",
              "      <td>11</td>\n",
              "      <td>27</td>\n",
              "      <td>24</td>\n",
              "    </tr>\n",
              "    <tr>\n",
              "      <th>21</th>\n",
              "      <td>6</td>\n",
              "      <td>3</td>\n",
              "      <td>10</td>\n",
              "      <td>9</td>\n",
              "      <td>27</td>\n",
              "      <td>1</td>\n",
              "      <td>5</td>\n",
              "      <td>11</td>\n",
              "      <td>0</td>\n",
              "      <td>0</td>\n",
              "    </tr>\n",
              "  </tbody>\n",
              "</table>\n",
              "</div>"
            ],
            "text/plain": [
              "     0   1   2   3   4   5   6   7   8   9\n",
              "0    2  12  18  28   3  19  20   1   4   0\n",
              "1    2   7   1   5   4   0   0   0   0   0\n",
              "2   29   1   5   4   0   0   0   0   0   0\n",
              "3   13  12   1   4  30   0   0   0   0   0\n",
              "4   13   7  31  32  33   4   0   0   0   0\n",
              "5    2  34   1   4   0   0   0   0   0   0\n",
              "6    2  35   3   1   4   0   0   0   0   0\n",
              "7    6  12  21  36  37  38   0   0   0   0\n",
              "8   14  39  40   1   4  15   0   0   0   0\n",
              "9    7  18  41   3  15  42   1   4   0   0\n",
              "10   8  43  44  13  45   3  19  46  22   0\n",
              "11   2  16   9  47   3  48  49  50  23  22\n",
              "12   6   3  10   1   5  11  51  24   0   0\n",
              "13   6   3  10   1   5  11   0   0   0   0\n",
              "14   2  17  52  16  53   0   0   0   0   0\n",
              "15   6  14  21  15   0   0   0   0   0   0\n",
              "16   6   3  54  55  25  17   0   0   0   0\n",
              "17   2  56   8  57  25  58  59   8  60  17\n",
              "18   2   7   9  61  62   1   5  26   0   0\n",
              "19   2  16   9  63  64  23   1   5  26  65\n",
              "20   6  14   8  10  20   1   5  11  27  24\n",
              "21   6   3  10   9  27   1   5  11   0   0"
            ]
          },
          "metadata": {
            "tags": []
          },
          "execution_count": 171
        }
      ]
    },
    {
      "cell_type": "code",
      "metadata": {
        "colab": {
          "base_uri": "https://localhost:8080/",
          "height": 357
        },
        "id": "Dje2hCaJ8IPc",
        "outputId": "3a3d5190-13bc-4118-f953-07d0ed5dd3de"
      },
      "source": [
        "df1.head(10)"
      ],
      "execution_count": 172,
      "outputs": [
        {
          "output_type": "execute_result",
          "data": {
            "text/html": [
              "<div>\n",
              "<style scoped>\n",
              "    .dataframe tbody tr th:only-of-type {\n",
              "        vertical-align: middle;\n",
              "    }\n",
              "\n",
              "    .dataframe tbody tr th {\n",
              "        vertical-align: top;\n",
              "    }\n",
              "\n",
              "    .dataframe thead th {\n",
              "        text-align: right;\n",
              "    }\n",
              "</style>\n",
              "<table border=\"1\" class=\"dataframe\">\n",
              "  <thead>\n",
              "    <tr style=\"text-align: right;\">\n",
              "      <th></th>\n",
              "      <th>questions</th>\n",
              "      <th>labels</th>\n",
              "    </tr>\n",
              "  </thead>\n",
              "  <tbody>\n",
              "    <tr>\n",
              "      <th>0</th>\n",
              "      <td>What does it mean to have a mental illness?</td>\n",
              "      <td>definition</td>\n",
              "    </tr>\n",
              "    <tr>\n",
              "      <th>1</th>\n",
              "      <td>What is mental health illness</td>\n",
              "      <td>definition</td>\n",
              "    </tr>\n",
              "    <tr>\n",
              "      <th>2</th>\n",
              "      <td>Describe mental health illness</td>\n",
              "      <td>definition</td>\n",
              "    </tr>\n",
              "    <tr>\n",
              "      <th>3</th>\n",
              "      <td>Who does mental illness affect?</td>\n",
              "      <td>affects_whom</td>\n",
              "    </tr>\n",
              "    <tr>\n",
              "      <th>4</th>\n",
              "      <td>Who is affected by mentall illness</td>\n",
              "      <td>affects_whom</td>\n",
              "    </tr>\n",
              "    <tr>\n",
              "      <th>5</th>\n",
              "      <td>What causes mental illness?</td>\n",
              "      <td>what_causes</td>\n",
              "    </tr>\n",
              "    <tr>\n",
              "      <th>6</th>\n",
              "      <td>What leads to mental illness?</td>\n",
              "      <td>what_causes</td>\n",
              "    </tr>\n",
              "    <tr>\n",
              "      <th>7</th>\n",
              "      <td>how does one get mentally ill?</td>\n",
              "      <td>what_causes</td>\n",
              "    </tr>\n",
              "    <tr>\n",
              "      <th>8</th>\n",
              "      <td>Can people with mental illness recover?</td>\n",
              "      <td>recover</td>\n",
              "    </tr>\n",
              "    <tr>\n",
              "      <th>9</th>\n",
              "      <td>Is it possible to recover from mental illness</td>\n",
              "      <td>recover</td>\n",
              "    </tr>\n",
              "  </tbody>\n",
              "</table>\n",
              "</div>"
            ],
            "text/plain": [
              "                                       questions        labels\n",
              "0    What does it mean to have a mental illness?    definition\n",
              "1                  What is mental health illness    definition\n",
              "2                 Describe mental health illness    definition\n",
              "3                Who does mental illness affect?  affects_whom\n",
              "4             Who is affected by mentall illness  affects_whom\n",
              "5                    What causes mental illness?   what_causes\n",
              "6                  What leads to mental illness?   what_causes\n",
              "7                 how does one get mentally ill?   what_causes\n",
              "8        Can people with mental illness recover?       recover\n",
              "9  Is it possible to recover from mental illness       recover"
            ]
          },
          "metadata": {
            "tags": []
          },
          "execution_count": 172
        }
      ]
    },
    {
      "cell_type": "code",
      "metadata": {
        "colab": {
          "base_uri": "https://localhost:8080/",
          "height": 357
        },
        "id": "3Uu_JiN5XLdt",
        "outputId": "d83accbd-8cfe-4b46-9cc4-6b39a218172f"
      },
      "source": [
        "df_encoded['labels'] = df1.labels\n",
        "df_encoded.head(10)"
      ],
      "execution_count": 173,
      "outputs": [
        {
          "output_type": "execute_result",
          "data": {
            "text/html": [
              "<div>\n",
              "<style scoped>\n",
              "    .dataframe tbody tr th:only-of-type {\n",
              "        vertical-align: middle;\n",
              "    }\n",
              "\n",
              "    .dataframe tbody tr th {\n",
              "        vertical-align: top;\n",
              "    }\n",
              "\n",
              "    .dataframe thead th {\n",
              "        text-align: right;\n",
              "    }\n",
              "</style>\n",
              "<table border=\"1\" class=\"dataframe\">\n",
              "  <thead>\n",
              "    <tr style=\"text-align: right;\">\n",
              "      <th></th>\n",
              "      <th>0</th>\n",
              "      <th>1</th>\n",
              "      <th>2</th>\n",
              "      <th>3</th>\n",
              "      <th>4</th>\n",
              "      <th>5</th>\n",
              "      <th>6</th>\n",
              "      <th>7</th>\n",
              "      <th>8</th>\n",
              "      <th>9</th>\n",
              "      <th>labels</th>\n",
              "    </tr>\n",
              "  </thead>\n",
              "  <tbody>\n",
              "    <tr>\n",
              "      <th>0</th>\n",
              "      <td>2</td>\n",
              "      <td>12</td>\n",
              "      <td>18</td>\n",
              "      <td>28</td>\n",
              "      <td>3</td>\n",
              "      <td>19</td>\n",
              "      <td>20</td>\n",
              "      <td>1</td>\n",
              "      <td>4</td>\n",
              "      <td>0</td>\n",
              "      <td>definition</td>\n",
              "    </tr>\n",
              "    <tr>\n",
              "      <th>1</th>\n",
              "      <td>2</td>\n",
              "      <td>7</td>\n",
              "      <td>1</td>\n",
              "      <td>5</td>\n",
              "      <td>4</td>\n",
              "      <td>0</td>\n",
              "      <td>0</td>\n",
              "      <td>0</td>\n",
              "      <td>0</td>\n",
              "      <td>0</td>\n",
              "      <td>definition</td>\n",
              "    </tr>\n",
              "    <tr>\n",
              "      <th>2</th>\n",
              "      <td>29</td>\n",
              "      <td>1</td>\n",
              "      <td>5</td>\n",
              "      <td>4</td>\n",
              "      <td>0</td>\n",
              "      <td>0</td>\n",
              "      <td>0</td>\n",
              "      <td>0</td>\n",
              "      <td>0</td>\n",
              "      <td>0</td>\n",
              "      <td>definition</td>\n",
              "    </tr>\n",
              "    <tr>\n",
              "      <th>3</th>\n",
              "      <td>13</td>\n",
              "      <td>12</td>\n",
              "      <td>1</td>\n",
              "      <td>4</td>\n",
              "      <td>30</td>\n",
              "      <td>0</td>\n",
              "      <td>0</td>\n",
              "      <td>0</td>\n",
              "      <td>0</td>\n",
              "      <td>0</td>\n",
              "      <td>affects_whom</td>\n",
              "    </tr>\n",
              "    <tr>\n",
              "      <th>4</th>\n",
              "      <td>13</td>\n",
              "      <td>7</td>\n",
              "      <td>31</td>\n",
              "      <td>32</td>\n",
              "      <td>33</td>\n",
              "      <td>4</td>\n",
              "      <td>0</td>\n",
              "      <td>0</td>\n",
              "      <td>0</td>\n",
              "      <td>0</td>\n",
              "      <td>affects_whom</td>\n",
              "    </tr>\n",
              "    <tr>\n",
              "      <th>5</th>\n",
              "      <td>2</td>\n",
              "      <td>34</td>\n",
              "      <td>1</td>\n",
              "      <td>4</td>\n",
              "      <td>0</td>\n",
              "      <td>0</td>\n",
              "      <td>0</td>\n",
              "      <td>0</td>\n",
              "      <td>0</td>\n",
              "      <td>0</td>\n",
              "      <td>what_causes</td>\n",
              "    </tr>\n",
              "    <tr>\n",
              "      <th>6</th>\n",
              "      <td>2</td>\n",
              "      <td>35</td>\n",
              "      <td>3</td>\n",
              "      <td>1</td>\n",
              "      <td>4</td>\n",
              "      <td>0</td>\n",
              "      <td>0</td>\n",
              "      <td>0</td>\n",
              "      <td>0</td>\n",
              "      <td>0</td>\n",
              "      <td>what_causes</td>\n",
              "    </tr>\n",
              "    <tr>\n",
              "      <th>7</th>\n",
              "      <td>6</td>\n",
              "      <td>12</td>\n",
              "      <td>21</td>\n",
              "      <td>36</td>\n",
              "      <td>37</td>\n",
              "      <td>38</td>\n",
              "      <td>0</td>\n",
              "      <td>0</td>\n",
              "      <td>0</td>\n",
              "      <td>0</td>\n",
              "      <td>what_causes</td>\n",
              "    </tr>\n",
              "    <tr>\n",
              "      <th>8</th>\n",
              "      <td>14</td>\n",
              "      <td>39</td>\n",
              "      <td>40</td>\n",
              "      <td>1</td>\n",
              "      <td>4</td>\n",
              "      <td>15</td>\n",
              "      <td>0</td>\n",
              "      <td>0</td>\n",
              "      <td>0</td>\n",
              "      <td>0</td>\n",
              "      <td>recover</td>\n",
              "    </tr>\n",
              "    <tr>\n",
              "      <th>9</th>\n",
              "      <td>7</td>\n",
              "      <td>18</td>\n",
              "      <td>41</td>\n",
              "      <td>3</td>\n",
              "      <td>15</td>\n",
              "      <td>42</td>\n",
              "      <td>1</td>\n",
              "      <td>4</td>\n",
              "      <td>0</td>\n",
              "      <td>0</td>\n",
              "      <td>recover</td>\n",
              "    </tr>\n",
              "  </tbody>\n",
              "</table>\n",
              "</div>"
            ],
            "text/plain": [
              "    0   1   2   3   4   5   6  7  8  9        labels\n",
              "0   2  12  18  28   3  19  20  1  4  0    definition\n",
              "1   2   7   1   5   4   0   0  0  0  0    definition\n",
              "2  29   1   5   4   0   0   0  0  0  0    definition\n",
              "3  13  12   1   4  30   0   0  0  0  0  affects_whom\n",
              "4  13   7  31  32  33   4   0  0  0  0  affects_whom\n",
              "5   2  34   1   4   0   0   0  0  0  0   what_causes\n",
              "6   2  35   3   1   4   0   0  0  0  0   what_causes\n",
              "7   6  12  21  36  37  38   0  0  0  0   what_causes\n",
              "8  14  39  40   1   4  15   0  0  0  0       recover\n",
              "9   7  18  41   3  15  42   1  4  0  0       recover"
            ]
          },
          "metadata": {
            "tags": []
          },
          "execution_count": 173
        }
      ]
    },
    {
      "cell_type": "code",
      "metadata": {
        "colab": {
          "base_uri": "https://localhost:8080/",
          "height": 726
        },
        "id": "heGzmZM3XS4J",
        "outputId": "ed09e08b-e76f-48c2-da63-99e09df7e653"
      },
      "source": [
        "df_encoded"
      ],
      "execution_count": 174,
      "outputs": [
        {
          "output_type": "execute_result",
          "data": {
            "text/html": [
              "<div>\n",
              "<style scoped>\n",
              "    .dataframe tbody tr th:only-of-type {\n",
              "        vertical-align: middle;\n",
              "    }\n",
              "\n",
              "    .dataframe tbody tr th {\n",
              "        vertical-align: top;\n",
              "    }\n",
              "\n",
              "    .dataframe thead th {\n",
              "        text-align: right;\n",
              "    }\n",
              "</style>\n",
              "<table border=\"1\" class=\"dataframe\">\n",
              "  <thead>\n",
              "    <tr style=\"text-align: right;\">\n",
              "      <th></th>\n",
              "      <th>0</th>\n",
              "      <th>1</th>\n",
              "      <th>2</th>\n",
              "      <th>3</th>\n",
              "      <th>4</th>\n",
              "      <th>5</th>\n",
              "      <th>6</th>\n",
              "      <th>7</th>\n",
              "      <th>8</th>\n",
              "      <th>9</th>\n",
              "      <th>labels</th>\n",
              "    </tr>\n",
              "  </thead>\n",
              "  <tbody>\n",
              "    <tr>\n",
              "      <th>0</th>\n",
              "      <td>2</td>\n",
              "      <td>12</td>\n",
              "      <td>18</td>\n",
              "      <td>28</td>\n",
              "      <td>3</td>\n",
              "      <td>19</td>\n",
              "      <td>20</td>\n",
              "      <td>1</td>\n",
              "      <td>4</td>\n",
              "      <td>0</td>\n",
              "      <td>definition</td>\n",
              "    </tr>\n",
              "    <tr>\n",
              "      <th>1</th>\n",
              "      <td>2</td>\n",
              "      <td>7</td>\n",
              "      <td>1</td>\n",
              "      <td>5</td>\n",
              "      <td>4</td>\n",
              "      <td>0</td>\n",
              "      <td>0</td>\n",
              "      <td>0</td>\n",
              "      <td>0</td>\n",
              "      <td>0</td>\n",
              "      <td>definition</td>\n",
              "    </tr>\n",
              "    <tr>\n",
              "      <th>2</th>\n",
              "      <td>29</td>\n",
              "      <td>1</td>\n",
              "      <td>5</td>\n",
              "      <td>4</td>\n",
              "      <td>0</td>\n",
              "      <td>0</td>\n",
              "      <td>0</td>\n",
              "      <td>0</td>\n",
              "      <td>0</td>\n",
              "      <td>0</td>\n",
              "      <td>definition</td>\n",
              "    </tr>\n",
              "    <tr>\n",
              "      <th>3</th>\n",
              "      <td>13</td>\n",
              "      <td>12</td>\n",
              "      <td>1</td>\n",
              "      <td>4</td>\n",
              "      <td>30</td>\n",
              "      <td>0</td>\n",
              "      <td>0</td>\n",
              "      <td>0</td>\n",
              "      <td>0</td>\n",
              "      <td>0</td>\n",
              "      <td>affects_whom</td>\n",
              "    </tr>\n",
              "    <tr>\n",
              "      <th>4</th>\n",
              "      <td>13</td>\n",
              "      <td>7</td>\n",
              "      <td>31</td>\n",
              "      <td>32</td>\n",
              "      <td>33</td>\n",
              "      <td>4</td>\n",
              "      <td>0</td>\n",
              "      <td>0</td>\n",
              "      <td>0</td>\n",
              "      <td>0</td>\n",
              "      <td>affects_whom</td>\n",
              "    </tr>\n",
              "    <tr>\n",
              "      <th>5</th>\n",
              "      <td>2</td>\n",
              "      <td>34</td>\n",
              "      <td>1</td>\n",
              "      <td>4</td>\n",
              "      <td>0</td>\n",
              "      <td>0</td>\n",
              "      <td>0</td>\n",
              "      <td>0</td>\n",
              "      <td>0</td>\n",
              "      <td>0</td>\n",
              "      <td>what_causes</td>\n",
              "    </tr>\n",
              "    <tr>\n",
              "      <th>6</th>\n",
              "      <td>2</td>\n",
              "      <td>35</td>\n",
              "      <td>3</td>\n",
              "      <td>1</td>\n",
              "      <td>4</td>\n",
              "      <td>0</td>\n",
              "      <td>0</td>\n",
              "      <td>0</td>\n",
              "      <td>0</td>\n",
              "      <td>0</td>\n",
              "      <td>what_causes</td>\n",
              "    </tr>\n",
              "    <tr>\n",
              "      <th>7</th>\n",
              "      <td>6</td>\n",
              "      <td>12</td>\n",
              "      <td>21</td>\n",
              "      <td>36</td>\n",
              "      <td>37</td>\n",
              "      <td>38</td>\n",
              "      <td>0</td>\n",
              "      <td>0</td>\n",
              "      <td>0</td>\n",
              "      <td>0</td>\n",
              "      <td>what_causes</td>\n",
              "    </tr>\n",
              "    <tr>\n",
              "      <th>8</th>\n",
              "      <td>14</td>\n",
              "      <td>39</td>\n",
              "      <td>40</td>\n",
              "      <td>1</td>\n",
              "      <td>4</td>\n",
              "      <td>15</td>\n",
              "      <td>0</td>\n",
              "      <td>0</td>\n",
              "      <td>0</td>\n",
              "      <td>0</td>\n",
              "      <td>recover</td>\n",
              "    </tr>\n",
              "    <tr>\n",
              "      <th>9</th>\n",
              "      <td>7</td>\n",
              "      <td>18</td>\n",
              "      <td>41</td>\n",
              "      <td>3</td>\n",
              "      <td>15</td>\n",
              "      <td>42</td>\n",
              "      <td>1</td>\n",
              "      <td>4</td>\n",
              "      <td>0</td>\n",
              "      <td>0</td>\n",
              "      <td>recover</td>\n",
              "    </tr>\n",
              "    <tr>\n",
              "      <th>10</th>\n",
              "      <td>8</td>\n",
              "      <td>43</td>\n",
              "      <td>44</td>\n",
              "      <td>13</td>\n",
              "      <td>45</td>\n",
              "      <td>3</td>\n",
              "      <td>19</td>\n",
              "      <td>46</td>\n",
              "      <td>22</td>\n",
              "      <td>0</td>\n",
              "      <td>steps</td>\n",
              "    </tr>\n",
              "    <tr>\n",
              "      <th>11</th>\n",
              "      <td>2</td>\n",
              "      <td>16</td>\n",
              "      <td>9</td>\n",
              "      <td>47</td>\n",
              "      <td>3</td>\n",
              "      <td>48</td>\n",
              "      <td>49</td>\n",
              "      <td>50</td>\n",
              "      <td>23</td>\n",
              "      <td>22</td>\n",
              "      <td>steps</td>\n",
              "    </tr>\n",
              "    <tr>\n",
              "      <th>12</th>\n",
              "      <td>6</td>\n",
              "      <td>3</td>\n",
              "      <td>10</td>\n",
              "      <td>1</td>\n",
              "      <td>5</td>\n",
              "      <td>11</td>\n",
              "      <td>51</td>\n",
              "      <td>24</td>\n",
              "      <td>0</td>\n",
              "      <td>0</td>\n",
              "      <td>find_help</td>\n",
              "    </tr>\n",
              "    <tr>\n",
              "      <th>13</th>\n",
              "      <td>6</td>\n",
              "      <td>3</td>\n",
              "      <td>10</td>\n",
              "      <td>1</td>\n",
              "      <td>5</td>\n",
              "      <td>11</td>\n",
              "      <td>0</td>\n",
              "      <td>0</td>\n",
              "      <td>0</td>\n",
              "      <td>0</td>\n",
              "      <td>find_help</td>\n",
              "    </tr>\n",
              "    <tr>\n",
              "      <th>14</th>\n",
              "      <td>2</td>\n",
              "      <td>17</td>\n",
              "      <td>52</td>\n",
              "      <td>16</td>\n",
              "      <td>53</td>\n",
              "      <td>0</td>\n",
              "      <td>0</td>\n",
              "      <td>0</td>\n",
              "      <td>0</td>\n",
              "      <td>0</td>\n",
              "      <td>treatement_options</td>\n",
              "    </tr>\n",
              "    <tr>\n",
              "      <th>15</th>\n",
              "      <td>6</td>\n",
              "      <td>14</td>\n",
              "      <td>21</td>\n",
              "      <td>15</td>\n",
              "      <td>0</td>\n",
              "      <td>0</td>\n",
              "      <td>0</td>\n",
              "      <td>0</td>\n",
              "      <td>0</td>\n",
              "      <td>0</td>\n",
              "      <td>treatement_options</td>\n",
              "    </tr>\n",
              "    <tr>\n",
              "      <th>16</th>\n",
              "      <td>6</td>\n",
              "      <td>3</td>\n",
              "      <td>54</td>\n",
              "      <td>55</td>\n",
              "      <td>25</td>\n",
              "      <td>17</td>\n",
              "      <td>0</td>\n",
              "      <td>0</td>\n",
              "      <td>0</td>\n",
              "      <td>0</td>\n",
              "      <td>treatment_tips</td>\n",
              "    </tr>\n",
              "    <tr>\n",
              "      <th>17</th>\n",
              "      <td>2</td>\n",
              "      <td>56</td>\n",
              "      <td>8</td>\n",
              "      <td>57</td>\n",
              "      <td>25</td>\n",
              "      <td>58</td>\n",
              "      <td>59</td>\n",
              "      <td>8</td>\n",
              "      <td>60</td>\n",
              "      <td>17</td>\n",
              "      <td>treatment_tips</td>\n",
              "    </tr>\n",
              "    <tr>\n",
              "      <th>18</th>\n",
              "      <td>2</td>\n",
              "      <td>7</td>\n",
              "      <td>9</td>\n",
              "      <td>61</td>\n",
              "      <td>62</td>\n",
              "      <td>1</td>\n",
              "      <td>5</td>\n",
              "      <td>26</td>\n",
              "      <td>0</td>\n",
              "      <td>0</td>\n",
              "      <td>professional_types</td>\n",
              "    </tr>\n",
              "    <tr>\n",
              "      <th>19</th>\n",
              "      <td>2</td>\n",
              "      <td>16</td>\n",
              "      <td>9</td>\n",
              "      <td>63</td>\n",
              "      <td>64</td>\n",
              "      <td>23</td>\n",
              "      <td>1</td>\n",
              "      <td>5</td>\n",
              "      <td>26</td>\n",
              "      <td>65</td>\n",
              "      <td>professional_types</td>\n",
              "    </tr>\n",
              "    <tr>\n",
              "      <th>20</th>\n",
              "      <td>6</td>\n",
              "      <td>14</td>\n",
              "      <td>8</td>\n",
              "      <td>10</td>\n",
              "      <td>20</td>\n",
              "      <td>1</td>\n",
              "      <td>5</td>\n",
              "      <td>11</td>\n",
              "      <td>27</td>\n",
              "      <td>24</td>\n",
              "      <td>right_professional</td>\n",
              "    </tr>\n",
              "    <tr>\n",
              "      <th>21</th>\n",
              "      <td>6</td>\n",
              "      <td>3</td>\n",
              "      <td>10</td>\n",
              "      <td>9</td>\n",
              "      <td>27</td>\n",
              "      <td>1</td>\n",
              "      <td>5</td>\n",
              "      <td>11</td>\n",
              "      <td>0</td>\n",
              "      <td>0</td>\n",
              "      <td>right_professional</td>\n",
              "    </tr>\n",
              "  </tbody>\n",
              "</table>\n",
              "</div>"
            ],
            "text/plain": [
              "     0   1   2   3   4   5   6   7   8   9              labels\n",
              "0    2  12  18  28   3  19  20   1   4   0          definition\n",
              "1    2   7   1   5   4   0   0   0   0   0          definition\n",
              "2   29   1   5   4   0   0   0   0   0   0          definition\n",
              "3   13  12   1   4  30   0   0   0   0   0        affects_whom\n",
              "4   13   7  31  32  33   4   0   0   0   0        affects_whom\n",
              "5    2  34   1   4   0   0   0   0   0   0         what_causes\n",
              "6    2  35   3   1   4   0   0   0   0   0         what_causes\n",
              "7    6  12  21  36  37  38   0   0   0   0         what_causes\n",
              "8   14  39  40   1   4  15   0   0   0   0             recover\n",
              "9    7  18  41   3  15  42   1   4   0   0             recover\n",
              "10   8  43  44  13  45   3  19  46  22   0               steps\n",
              "11   2  16   9  47   3  48  49  50  23  22               steps\n",
              "12   6   3  10   1   5  11  51  24   0   0           find_help\n",
              "13   6   3  10   1   5  11   0   0   0   0           find_help\n",
              "14   2  17  52  16  53   0   0   0   0   0  treatement_options\n",
              "15   6  14  21  15   0   0   0   0   0   0  treatement_options\n",
              "16   6   3  54  55  25  17   0   0   0   0      treatment_tips\n",
              "17   2  56   8  57  25  58  59   8  60  17      treatment_tips\n",
              "18   2   7   9  61  62   1   5  26   0   0  professional_types\n",
              "19   2  16   9  63  64  23   1   5  26  65  professional_types\n",
              "20   6  14   8  10  20   1   5  11  27  24  right_professional\n",
              "21   6   3  10   9  27   1   5  11   0   0  right_professional"
            ]
          },
          "metadata": {
            "tags": []
          },
          "execution_count": 174
        }
      ]
    },
    {
      "cell_type": "code",
      "metadata": {
        "colab": {
          "base_uri": "https://localhost:8080/"
        },
        "id": "kxyYd8LvXSwB",
        "outputId": "32c053a6-2222-4c09-d36d-c2ace77ed244"
      },
      "source": [
        "from sklearn.preprocessing import LabelEncoder\n",
        "lable_enc = LabelEncoder()\n",
        "\n",
        "# encoding the labels\n",
        "\n",
        "labl = lable_enc.fit_transform(df_encoded.labels)\n",
        "labl"
      ],
      "execution_count": 175,
      "outputs": [
        {
          "output_type": "execute_result",
          "data": {
            "text/plain": [
              "array([1, 1, 1, 0, 0, 9, 9, 9, 4, 4, 6, 6, 2, 2, 7, 7, 8, 8, 3, 3, 5, 5])"
            ]
          },
          "metadata": {
            "tags": []
          },
          "execution_count": 175
        }
      ]
    },
    {
      "cell_type": "code",
      "metadata": {
        "colab": {
          "base_uri": "https://localhost:8080/"
        },
        "id": "EL0qCx9e_9Jm",
        "outputId": "e7ac0310-b592-4f3d-920f-acefda9bdeba"
      },
      "source": [
        "len(labl)"
      ],
      "execution_count": 176,
      "outputs": [
        {
          "output_type": "execute_result",
          "data": {
            "text/plain": [
              "22"
            ]
          },
          "metadata": {
            "tags": []
          },
          "execution_count": 176
        }
      ]
    },
    {
      "cell_type": "code",
      "metadata": {
        "colab": {
          "base_uri": "https://localhost:8080/"
        },
        "id": "XMC_1ZukXiDL",
        "outputId": "cd90cd74-9007-4df0-d558-f07cd0e9db15"
      },
      "source": [
        "mapper = {}\n",
        "for index,key in enumerate(df_encoded.labels):\n",
        "    if key not in mapper.keys():\n",
        "        mapper[key] = labl[index]\n",
        "mapper"
      ],
      "execution_count": 177,
      "outputs": [
        {
          "output_type": "execute_result",
          "data": {
            "text/plain": [
              "{'affects_whom': 0,\n",
              " 'definition': 1,\n",
              " 'find_help': 2,\n",
              " 'professional_types': 3,\n",
              " 'recover': 4,\n",
              " 'right_professional': 5,\n",
              " 'steps': 6,\n",
              " 'treatement_options': 7,\n",
              " 'treatment_tips': 8,\n",
              " 'what_causes': 9}"
            ]
          },
          "metadata": {
            "tags": []
          },
          "execution_count": 177
        }
      ]
    },
    {
      "cell_type": "markdown",
      "metadata": {
        "id": "P3myx7GaAI5Q"
      },
      "source": [
        "Repeat the same for df2"
      ]
    },
    {
      "cell_type": "code",
      "metadata": {
        "colab": {
          "base_uri": "https://localhost:8080/",
          "height": 203
        },
        "id": "4nCk2oQbXh_X",
        "outputId": "7fa8a86a-9bb1-40c5-9bbb-d08e0472e4f1"
      },
      "source": [
        "df2.head()"
      ],
      "execution_count": 178,
      "outputs": [
        {
          "output_type": "execute_result",
          "data": {
            "text/html": [
              "<div>\n",
              "<style scoped>\n",
              "    .dataframe tbody tr th:only-of-type {\n",
              "        vertical-align: middle;\n",
              "    }\n",
              "\n",
              "    .dataframe tbody tr th {\n",
              "        vertical-align: top;\n",
              "    }\n",
              "\n",
              "    .dataframe thead th {\n",
              "        text-align: right;\n",
              "    }\n",
              "</style>\n",
              "<table border=\"1\" class=\"dataframe\">\n",
              "  <thead>\n",
              "    <tr style=\"text-align: right;\">\n",
              "      <th></th>\n",
              "      <th>response</th>\n",
              "      <th>labels</th>\n",
              "    </tr>\n",
              "  </thead>\n",
              "  <tbody>\n",
              "    <tr>\n",
              "      <th>0</th>\n",
              "      <td>Mental illnesses are health conditions that di...</td>\n",
              "      <td>definition</td>\n",
              "    </tr>\n",
              "    <tr>\n",
              "      <th>1</th>\n",
              "      <td>It is estimated that mental illness affects 1 ...</td>\n",
              "      <td>affects_whom</td>\n",
              "    </tr>\n",
              "    <tr>\n",
              "      <th>2</th>\n",
              "      <td>Symptoms of mental health disorders vary depen...</td>\n",
              "      <td>what_causes</td>\n",
              "    </tr>\n",
              "    <tr>\n",
              "      <th>3</th>\n",
              "      <td>When healing from mental illness, early identi...</td>\n",
              "      <td>recover</td>\n",
              "    </tr>\n",
              "    <tr>\n",
              "      <th>4</th>\n",
              "      <td>Although this website cannot substitute for pr...</td>\n",
              "      <td>steps</td>\n",
              "    </tr>\n",
              "  </tbody>\n",
              "</table>\n",
              "</div>"
            ],
            "text/plain": [
              "                                            response        labels\n",
              "0  Mental illnesses are health conditions that di...    definition\n",
              "1  It is estimated that mental illness affects 1 ...  affects_whom\n",
              "2  Symptoms of mental health disorders vary depen...   what_causes\n",
              "3  When healing from mental illness, early identi...       recover\n",
              "4  Although this website cannot substitute for pr...         steps"
            ]
          },
          "metadata": {
            "tags": []
          },
          "execution_count": 178
        }
      ]
    },
    {
      "cell_type": "code",
      "metadata": {
        "colab": {
          "base_uri": "https://localhost:8080/",
          "height": 357
        },
        "id": "5mqpR_GuMPrc",
        "outputId": "4f2363e2-0a7b-45cf-b527-e4c108400f08"
      },
      "source": [
        "df2"
      ],
      "execution_count": 179,
      "outputs": [
        {
          "output_type": "execute_result",
          "data": {
            "text/html": [
              "<div>\n",
              "<style scoped>\n",
              "    .dataframe tbody tr th:only-of-type {\n",
              "        vertical-align: middle;\n",
              "    }\n",
              "\n",
              "    .dataframe tbody tr th {\n",
              "        vertical-align: top;\n",
              "    }\n",
              "\n",
              "    .dataframe thead th {\n",
              "        text-align: right;\n",
              "    }\n",
              "</style>\n",
              "<table border=\"1\" class=\"dataframe\">\n",
              "  <thead>\n",
              "    <tr style=\"text-align: right;\">\n",
              "      <th></th>\n",
              "      <th>response</th>\n",
              "      <th>labels</th>\n",
              "    </tr>\n",
              "  </thead>\n",
              "  <tbody>\n",
              "    <tr>\n",
              "      <th>0</th>\n",
              "      <td>Mental illnesses are health conditions that di...</td>\n",
              "      <td>definition</td>\n",
              "    </tr>\n",
              "    <tr>\n",
              "      <th>1</th>\n",
              "      <td>It is estimated that mental illness affects 1 ...</td>\n",
              "      <td>affects_whom</td>\n",
              "    </tr>\n",
              "    <tr>\n",
              "      <th>2</th>\n",
              "      <td>Symptoms of mental health disorders vary depen...</td>\n",
              "      <td>what_causes</td>\n",
              "    </tr>\n",
              "    <tr>\n",
              "      <th>3</th>\n",
              "      <td>When healing from mental illness, early identi...</td>\n",
              "      <td>recover</td>\n",
              "    </tr>\n",
              "    <tr>\n",
              "      <th>4</th>\n",
              "      <td>Although this website cannot substitute for pr...</td>\n",
              "      <td>steps</td>\n",
              "    </tr>\n",
              "    <tr>\n",
              "      <th>5</th>\n",
              "      <td>Feeling comfortable with the professional you ...</td>\n",
              "      <td>find_help</td>\n",
              "    </tr>\n",
              "    <tr>\n",
              "      <th>6</th>\n",
              "      <td>Just as there are different types of medicatio...</td>\n",
              "      <td>treatement_options</td>\n",
              "    </tr>\n",
              "    <tr>\n",
              "      <th>7</th>\n",
              "      <td>Since beginning treatment is a big step for in...</td>\n",
              "      <td>treatment_tips</td>\n",
              "    </tr>\n",
              "    <tr>\n",
              "      <th>8</th>\n",
              "      <td>There are many types of mental health professi...</td>\n",
              "      <td>professional_types</td>\n",
              "    </tr>\n",
              "    <tr>\n",
              "      <th>9</th>\n",
              "      <td>Feeling comfortable with the professional you ...</td>\n",
              "      <td>right_professional</td>\n",
              "    </tr>\n",
              "  </tbody>\n",
              "</table>\n",
              "</div>"
            ],
            "text/plain": [
              "                                            response              labels\n",
              "0  Mental illnesses are health conditions that di...          definition\n",
              "1  It is estimated that mental illness affects 1 ...        affects_whom\n",
              "2  Symptoms of mental health disorders vary depen...         what_causes\n",
              "3  When healing from mental illness, early identi...             recover\n",
              "4  Although this website cannot substitute for pr...               steps\n",
              "5  Feeling comfortable with the professional you ...           find_help\n",
              "6  Just as there are different types of medicatio...  treatement_options\n",
              "7  Since beginning treatment is a big step for in...      treatment_tips\n",
              "8  There are many types of mental health professi...  professional_types\n",
              "9  Feeling comfortable with the professional you ...  right_professional"
            ]
          },
          "metadata": {
            "tags": []
          },
          "execution_count": 179
        }
      ]
    },
    {
      "cell_type": "code",
      "metadata": {
        "id": "cR7qqxoeXh8w",
        "colab": {
          "base_uri": "https://localhost:8080/",
          "height": 203
        },
        "outputId": "bfb288a2-e061-4928-9b8b-3a1e20d69fa2"
      },
      "source": [
        "df2.labels = df2.labels.map(mapper).astype({'labels': 'int32'})\n",
        "df2.head()"
      ],
      "execution_count": 180,
      "outputs": [
        {
          "output_type": "execute_result",
          "data": {
            "text/html": [
              "<div>\n",
              "<style scoped>\n",
              "    .dataframe tbody tr th:only-of-type {\n",
              "        vertical-align: middle;\n",
              "    }\n",
              "\n",
              "    .dataframe tbody tr th {\n",
              "        vertical-align: top;\n",
              "    }\n",
              "\n",
              "    .dataframe thead th {\n",
              "        text-align: right;\n",
              "    }\n",
              "</style>\n",
              "<table border=\"1\" class=\"dataframe\">\n",
              "  <thead>\n",
              "    <tr style=\"text-align: right;\">\n",
              "      <th></th>\n",
              "      <th>response</th>\n",
              "      <th>labels</th>\n",
              "    </tr>\n",
              "  </thead>\n",
              "  <tbody>\n",
              "    <tr>\n",
              "      <th>0</th>\n",
              "      <td>Mental illnesses are health conditions that di...</td>\n",
              "      <td>1</td>\n",
              "    </tr>\n",
              "    <tr>\n",
              "      <th>1</th>\n",
              "      <td>It is estimated that mental illness affects 1 ...</td>\n",
              "      <td>0</td>\n",
              "    </tr>\n",
              "    <tr>\n",
              "      <th>2</th>\n",
              "      <td>Symptoms of mental health disorders vary depen...</td>\n",
              "      <td>9</td>\n",
              "    </tr>\n",
              "    <tr>\n",
              "      <th>3</th>\n",
              "      <td>When healing from mental illness, early identi...</td>\n",
              "      <td>4</td>\n",
              "    </tr>\n",
              "    <tr>\n",
              "      <th>4</th>\n",
              "      <td>Although this website cannot substitute for pr...</td>\n",
              "      <td>6</td>\n",
              "    </tr>\n",
              "  </tbody>\n",
              "</table>\n",
              "</div>"
            ],
            "text/plain": [
              "                                            response  labels\n",
              "0  Mental illnesses are health conditions that di...       1\n",
              "1  It is estimated that mental illness affects 1 ...       0\n",
              "2  Symptoms of mental health disorders vary depen...       9\n",
              "3  When healing from mental illness, early identi...       4\n",
              "4  Although this website cannot substitute for pr...       6"
            ]
          },
          "metadata": {
            "tags": []
          },
          "execution_count": 180
        }
      ]
    },
    {
      "cell_type": "code",
      "metadata": {
        "id": "4ixZCvNZXn4g"
      },
      "source": [
        "df2.to_csv('response.csv',index=False)"
      ],
      "execution_count": 181,
      "outputs": []
    },
    {
      "cell_type": "code",
      "metadata": {
        "colab": {
          "base_uri": "https://localhost:8080/",
          "height": 203
        },
        "id": "hIjUTKNvAfao",
        "outputId": "a084e1eb-af7a-49bd-c664-4453abdaf6c0"
      },
      "source": [
        "df_encoded.head()"
      ],
      "execution_count": 182,
      "outputs": [
        {
          "output_type": "execute_result",
          "data": {
            "text/html": [
              "<div>\n",
              "<style scoped>\n",
              "    .dataframe tbody tr th:only-of-type {\n",
              "        vertical-align: middle;\n",
              "    }\n",
              "\n",
              "    .dataframe tbody tr th {\n",
              "        vertical-align: top;\n",
              "    }\n",
              "\n",
              "    .dataframe thead th {\n",
              "        text-align: right;\n",
              "    }\n",
              "</style>\n",
              "<table border=\"1\" class=\"dataframe\">\n",
              "  <thead>\n",
              "    <tr style=\"text-align: right;\">\n",
              "      <th></th>\n",
              "      <th>0</th>\n",
              "      <th>1</th>\n",
              "      <th>2</th>\n",
              "      <th>3</th>\n",
              "      <th>4</th>\n",
              "      <th>5</th>\n",
              "      <th>6</th>\n",
              "      <th>7</th>\n",
              "      <th>8</th>\n",
              "      <th>9</th>\n",
              "      <th>labels</th>\n",
              "    </tr>\n",
              "  </thead>\n",
              "  <tbody>\n",
              "    <tr>\n",
              "      <th>0</th>\n",
              "      <td>2</td>\n",
              "      <td>12</td>\n",
              "      <td>18</td>\n",
              "      <td>28</td>\n",
              "      <td>3</td>\n",
              "      <td>19</td>\n",
              "      <td>20</td>\n",
              "      <td>1</td>\n",
              "      <td>4</td>\n",
              "      <td>0</td>\n",
              "      <td>definition</td>\n",
              "    </tr>\n",
              "    <tr>\n",
              "      <th>1</th>\n",
              "      <td>2</td>\n",
              "      <td>7</td>\n",
              "      <td>1</td>\n",
              "      <td>5</td>\n",
              "      <td>4</td>\n",
              "      <td>0</td>\n",
              "      <td>0</td>\n",
              "      <td>0</td>\n",
              "      <td>0</td>\n",
              "      <td>0</td>\n",
              "      <td>definition</td>\n",
              "    </tr>\n",
              "    <tr>\n",
              "      <th>2</th>\n",
              "      <td>29</td>\n",
              "      <td>1</td>\n",
              "      <td>5</td>\n",
              "      <td>4</td>\n",
              "      <td>0</td>\n",
              "      <td>0</td>\n",
              "      <td>0</td>\n",
              "      <td>0</td>\n",
              "      <td>0</td>\n",
              "      <td>0</td>\n",
              "      <td>definition</td>\n",
              "    </tr>\n",
              "    <tr>\n",
              "      <th>3</th>\n",
              "      <td>13</td>\n",
              "      <td>12</td>\n",
              "      <td>1</td>\n",
              "      <td>4</td>\n",
              "      <td>30</td>\n",
              "      <td>0</td>\n",
              "      <td>0</td>\n",
              "      <td>0</td>\n",
              "      <td>0</td>\n",
              "      <td>0</td>\n",
              "      <td>affects_whom</td>\n",
              "    </tr>\n",
              "    <tr>\n",
              "      <th>4</th>\n",
              "      <td>13</td>\n",
              "      <td>7</td>\n",
              "      <td>31</td>\n",
              "      <td>32</td>\n",
              "      <td>33</td>\n",
              "      <td>4</td>\n",
              "      <td>0</td>\n",
              "      <td>0</td>\n",
              "      <td>0</td>\n",
              "      <td>0</td>\n",
              "      <td>affects_whom</td>\n",
              "    </tr>\n",
              "  </tbody>\n",
              "</table>\n",
              "</div>"
            ],
            "text/plain": [
              "    0   1   2   3   4   5   6  7  8  9        labels\n",
              "0   2  12  18  28   3  19  20  1  4  0    definition\n",
              "1   2   7   1   5   4   0   0  0  0  0    definition\n",
              "2  29   1   5   4   0   0   0  0  0  0    definition\n",
              "3  13  12   1   4  30   0   0  0  0  0  affects_whom\n",
              "4  13   7  31  32  33   4   0  0  0  0  affects_whom"
            ]
          },
          "metadata": {
            "tags": []
          },
          "execution_count": 182
        }
      ]
    },
    {
      "cell_type": "code",
      "metadata": {
        "colab": {
          "base_uri": "https://localhost:8080/"
        },
        "id": "gIyITJXtAkHZ",
        "outputId": "59a4c91e-e020-48ad-e2d4-44587dba3534"
      },
      "source": [
        "train_index"
      ],
      "execution_count": 183,
      "outputs": [
        {
          "output_type": "execute_result",
          "data": {
            "text/plain": [
              "[1, 2, 4, 6, 7, 9, 11, 13, 15, 17, 19, 21]"
            ]
          },
          "metadata": {
            "tags": []
          },
          "execution_count": 183
        }
      ]
    },
    {
      "cell_type": "code",
      "metadata": {
        "colab": {
          "base_uri": "https://localhost:8080/"
        },
        "id": "mdAynG8hAmUF",
        "outputId": "aff7c007-10fe-4482-d4fa-ff03e1c283d1"
      },
      "source": [
        "test_index"
      ],
      "execution_count": 184,
      "outputs": [
        {
          "output_type": "execute_result",
          "data": {
            "text/plain": [
              "[3, 0, 12, 18, 8, 20, 10, 14, 16, 5]"
            ]
          },
          "metadata": {
            "tags": []
          },
          "execution_count": 184
        }
      ]
    },
    {
      "cell_type": "code",
      "metadata": {
        "id": "-KWZh9SUXtwA"
      },
      "source": [
        "train = df_encoded.loc[train_index]\n",
        "test = df_encoded.loc[test_index]"
      ],
      "execution_count": 185,
      "outputs": []
    },
    {
      "cell_type": "markdown",
      "metadata": {
        "id": "Fb9aSpfs7NSN"
      },
      "source": [
        "## Training and testing"
      ]
    },
    {
      "cell_type": "code",
      "metadata": {
        "colab": {
          "base_uri": "https://localhost:8080/",
          "height": 418
        },
        "id": "AcAZpSdmBYSx",
        "outputId": "001562f0-5172-4d9d-a1bc-5c57b6b84084"
      },
      "source": [
        "train"
      ],
      "execution_count": 186,
      "outputs": [
        {
          "output_type": "execute_result",
          "data": {
            "text/html": [
              "<div>\n",
              "<style scoped>\n",
              "    .dataframe tbody tr th:only-of-type {\n",
              "        vertical-align: middle;\n",
              "    }\n",
              "\n",
              "    .dataframe tbody tr th {\n",
              "        vertical-align: top;\n",
              "    }\n",
              "\n",
              "    .dataframe thead th {\n",
              "        text-align: right;\n",
              "    }\n",
              "</style>\n",
              "<table border=\"1\" class=\"dataframe\">\n",
              "  <thead>\n",
              "    <tr style=\"text-align: right;\">\n",
              "      <th></th>\n",
              "      <th>0</th>\n",
              "      <th>1</th>\n",
              "      <th>2</th>\n",
              "      <th>3</th>\n",
              "      <th>4</th>\n",
              "      <th>5</th>\n",
              "      <th>6</th>\n",
              "      <th>7</th>\n",
              "      <th>8</th>\n",
              "      <th>9</th>\n",
              "      <th>labels</th>\n",
              "    </tr>\n",
              "  </thead>\n",
              "  <tbody>\n",
              "    <tr>\n",
              "      <th>1</th>\n",
              "      <td>2</td>\n",
              "      <td>7</td>\n",
              "      <td>1</td>\n",
              "      <td>5</td>\n",
              "      <td>4</td>\n",
              "      <td>0</td>\n",
              "      <td>0</td>\n",
              "      <td>0</td>\n",
              "      <td>0</td>\n",
              "      <td>0</td>\n",
              "      <td>definition</td>\n",
              "    </tr>\n",
              "    <tr>\n",
              "      <th>2</th>\n",
              "      <td>29</td>\n",
              "      <td>1</td>\n",
              "      <td>5</td>\n",
              "      <td>4</td>\n",
              "      <td>0</td>\n",
              "      <td>0</td>\n",
              "      <td>0</td>\n",
              "      <td>0</td>\n",
              "      <td>0</td>\n",
              "      <td>0</td>\n",
              "      <td>definition</td>\n",
              "    </tr>\n",
              "    <tr>\n",
              "      <th>4</th>\n",
              "      <td>13</td>\n",
              "      <td>7</td>\n",
              "      <td>31</td>\n",
              "      <td>32</td>\n",
              "      <td>33</td>\n",
              "      <td>4</td>\n",
              "      <td>0</td>\n",
              "      <td>0</td>\n",
              "      <td>0</td>\n",
              "      <td>0</td>\n",
              "      <td>affects_whom</td>\n",
              "    </tr>\n",
              "    <tr>\n",
              "      <th>6</th>\n",
              "      <td>2</td>\n",
              "      <td>35</td>\n",
              "      <td>3</td>\n",
              "      <td>1</td>\n",
              "      <td>4</td>\n",
              "      <td>0</td>\n",
              "      <td>0</td>\n",
              "      <td>0</td>\n",
              "      <td>0</td>\n",
              "      <td>0</td>\n",
              "      <td>what_causes</td>\n",
              "    </tr>\n",
              "    <tr>\n",
              "      <th>7</th>\n",
              "      <td>6</td>\n",
              "      <td>12</td>\n",
              "      <td>21</td>\n",
              "      <td>36</td>\n",
              "      <td>37</td>\n",
              "      <td>38</td>\n",
              "      <td>0</td>\n",
              "      <td>0</td>\n",
              "      <td>0</td>\n",
              "      <td>0</td>\n",
              "      <td>what_causes</td>\n",
              "    </tr>\n",
              "    <tr>\n",
              "      <th>9</th>\n",
              "      <td>7</td>\n",
              "      <td>18</td>\n",
              "      <td>41</td>\n",
              "      <td>3</td>\n",
              "      <td>15</td>\n",
              "      <td>42</td>\n",
              "      <td>1</td>\n",
              "      <td>4</td>\n",
              "      <td>0</td>\n",
              "      <td>0</td>\n",
              "      <td>recover</td>\n",
              "    </tr>\n",
              "    <tr>\n",
              "      <th>11</th>\n",
              "      <td>2</td>\n",
              "      <td>16</td>\n",
              "      <td>9</td>\n",
              "      <td>47</td>\n",
              "      <td>3</td>\n",
              "      <td>48</td>\n",
              "      <td>49</td>\n",
              "      <td>50</td>\n",
              "      <td>23</td>\n",
              "      <td>22</td>\n",
              "      <td>steps</td>\n",
              "    </tr>\n",
              "    <tr>\n",
              "      <th>13</th>\n",
              "      <td>6</td>\n",
              "      <td>3</td>\n",
              "      <td>10</td>\n",
              "      <td>1</td>\n",
              "      <td>5</td>\n",
              "      <td>11</td>\n",
              "      <td>0</td>\n",
              "      <td>0</td>\n",
              "      <td>0</td>\n",
              "      <td>0</td>\n",
              "      <td>find_help</td>\n",
              "    </tr>\n",
              "    <tr>\n",
              "      <th>15</th>\n",
              "      <td>6</td>\n",
              "      <td>14</td>\n",
              "      <td>21</td>\n",
              "      <td>15</td>\n",
              "      <td>0</td>\n",
              "      <td>0</td>\n",
              "      <td>0</td>\n",
              "      <td>0</td>\n",
              "      <td>0</td>\n",
              "      <td>0</td>\n",
              "      <td>treatement_options</td>\n",
              "    </tr>\n",
              "    <tr>\n",
              "      <th>17</th>\n",
              "      <td>2</td>\n",
              "      <td>56</td>\n",
              "      <td>8</td>\n",
              "      <td>57</td>\n",
              "      <td>25</td>\n",
              "      <td>58</td>\n",
              "      <td>59</td>\n",
              "      <td>8</td>\n",
              "      <td>60</td>\n",
              "      <td>17</td>\n",
              "      <td>treatment_tips</td>\n",
              "    </tr>\n",
              "    <tr>\n",
              "      <th>19</th>\n",
              "      <td>2</td>\n",
              "      <td>16</td>\n",
              "      <td>9</td>\n",
              "      <td>63</td>\n",
              "      <td>64</td>\n",
              "      <td>23</td>\n",
              "      <td>1</td>\n",
              "      <td>5</td>\n",
              "      <td>26</td>\n",
              "      <td>65</td>\n",
              "      <td>professional_types</td>\n",
              "    </tr>\n",
              "    <tr>\n",
              "      <th>21</th>\n",
              "      <td>6</td>\n",
              "      <td>3</td>\n",
              "      <td>10</td>\n",
              "      <td>9</td>\n",
              "      <td>27</td>\n",
              "      <td>1</td>\n",
              "      <td>5</td>\n",
              "      <td>11</td>\n",
              "      <td>0</td>\n",
              "      <td>0</td>\n",
              "      <td>right_professional</td>\n",
              "    </tr>\n",
              "  </tbody>\n",
              "</table>\n",
              "</div>"
            ],
            "text/plain": [
              "     0   1   2   3   4   5   6   7   8   9              labels\n",
              "1    2   7   1   5   4   0   0   0   0   0          definition\n",
              "2   29   1   5   4   0   0   0   0   0   0          definition\n",
              "4   13   7  31  32  33   4   0   0   0   0        affects_whom\n",
              "6    2  35   3   1   4   0   0   0   0   0         what_causes\n",
              "7    6  12  21  36  37  38   0   0   0   0         what_causes\n",
              "9    7  18  41   3  15  42   1   4   0   0             recover\n",
              "11   2  16   9  47   3  48  49  50  23  22               steps\n",
              "13   6   3  10   1   5  11   0   0   0   0           find_help\n",
              "15   6  14  21  15   0   0   0   0   0   0  treatement_options\n",
              "17   2  56   8  57  25  58  59   8  60  17      treatment_tips\n",
              "19   2  16   9  63  64  23   1   5  26  65  professional_types\n",
              "21   6   3  10   9  27   1   5  11   0   0  right_professional"
            ]
          },
          "metadata": {
            "tags": []
          },
          "execution_count": 186
        }
      ]
    },
    {
      "cell_type": "code",
      "metadata": {
        "colab": {
          "base_uri": "https://localhost:8080/",
          "height": 203
        },
        "id": "epPEROQGBlsm",
        "outputId": "20e37b06-0375-4ce9-82d2-0a4cb57bec53"
      },
      "source": [
        "test.head()"
      ],
      "execution_count": 187,
      "outputs": [
        {
          "output_type": "execute_result",
          "data": {
            "text/html": [
              "<div>\n",
              "<style scoped>\n",
              "    .dataframe tbody tr th:only-of-type {\n",
              "        vertical-align: middle;\n",
              "    }\n",
              "\n",
              "    .dataframe tbody tr th {\n",
              "        vertical-align: top;\n",
              "    }\n",
              "\n",
              "    .dataframe thead th {\n",
              "        text-align: right;\n",
              "    }\n",
              "</style>\n",
              "<table border=\"1\" class=\"dataframe\">\n",
              "  <thead>\n",
              "    <tr style=\"text-align: right;\">\n",
              "      <th></th>\n",
              "      <th>0</th>\n",
              "      <th>1</th>\n",
              "      <th>2</th>\n",
              "      <th>3</th>\n",
              "      <th>4</th>\n",
              "      <th>5</th>\n",
              "      <th>6</th>\n",
              "      <th>7</th>\n",
              "      <th>8</th>\n",
              "      <th>9</th>\n",
              "      <th>labels</th>\n",
              "    </tr>\n",
              "  </thead>\n",
              "  <tbody>\n",
              "    <tr>\n",
              "      <th>3</th>\n",
              "      <td>13</td>\n",
              "      <td>12</td>\n",
              "      <td>1</td>\n",
              "      <td>4</td>\n",
              "      <td>30</td>\n",
              "      <td>0</td>\n",
              "      <td>0</td>\n",
              "      <td>0</td>\n",
              "      <td>0</td>\n",
              "      <td>0</td>\n",
              "      <td>affects_whom</td>\n",
              "    </tr>\n",
              "    <tr>\n",
              "      <th>0</th>\n",
              "      <td>2</td>\n",
              "      <td>12</td>\n",
              "      <td>18</td>\n",
              "      <td>28</td>\n",
              "      <td>3</td>\n",
              "      <td>19</td>\n",
              "      <td>20</td>\n",
              "      <td>1</td>\n",
              "      <td>4</td>\n",
              "      <td>0</td>\n",
              "      <td>definition</td>\n",
              "    </tr>\n",
              "    <tr>\n",
              "      <th>12</th>\n",
              "      <td>6</td>\n",
              "      <td>3</td>\n",
              "      <td>10</td>\n",
              "      <td>1</td>\n",
              "      <td>5</td>\n",
              "      <td>11</td>\n",
              "      <td>51</td>\n",
              "      <td>24</td>\n",
              "      <td>0</td>\n",
              "      <td>0</td>\n",
              "      <td>find_help</td>\n",
              "    </tr>\n",
              "    <tr>\n",
              "      <th>18</th>\n",
              "      <td>2</td>\n",
              "      <td>7</td>\n",
              "      <td>9</td>\n",
              "      <td>61</td>\n",
              "      <td>62</td>\n",
              "      <td>1</td>\n",
              "      <td>5</td>\n",
              "      <td>26</td>\n",
              "      <td>0</td>\n",
              "      <td>0</td>\n",
              "      <td>professional_types</td>\n",
              "    </tr>\n",
              "    <tr>\n",
              "      <th>8</th>\n",
              "      <td>14</td>\n",
              "      <td>39</td>\n",
              "      <td>40</td>\n",
              "      <td>1</td>\n",
              "      <td>4</td>\n",
              "      <td>15</td>\n",
              "      <td>0</td>\n",
              "      <td>0</td>\n",
              "      <td>0</td>\n",
              "      <td>0</td>\n",
              "      <td>recover</td>\n",
              "    </tr>\n",
              "  </tbody>\n",
              "</table>\n",
              "</div>"
            ],
            "text/plain": [
              "     0   1   2   3   4   5   6   7  8  9              labels\n",
              "3   13  12   1   4  30   0   0   0  0  0        affects_whom\n",
              "0    2  12  18  28   3  19  20   1  4  0          definition\n",
              "12   6   3  10   1   5  11  51  24  0  0           find_help\n",
              "18   2   7   9  61  62   1   5  26  0  0  professional_types\n",
              "8   14  39  40   1   4  15   0   0  0  0             recover"
            ]
          },
          "metadata": {
            "tags": []
          },
          "execution_count": 187
        }
      ]
    },
    {
      "cell_type": "code",
      "metadata": {
        "colab": {
          "base_uri": "https://localhost:8080/"
        },
        "id": "C1ZYcCJFmQfg",
        "outputId": "3726982d-8103-4c01-c4ac-cb1cc22665d5"
      },
      "source": [
        "train.labels.value_counts()"
      ],
      "execution_count": 188,
      "outputs": [
        {
          "output_type": "execute_result",
          "data": {
            "text/plain": [
              "definition            2\n",
              "what_causes           2\n",
              "treatment_tips        1\n",
              "recover               1\n",
              "professional_types    1\n",
              "treatement_options    1\n",
              "affects_whom          1\n",
              "right_professional    1\n",
              "steps                 1\n",
              "find_help             1\n",
              "Name: labels, dtype: int64"
            ]
          },
          "metadata": {
            "tags": []
          },
          "execution_count": 188
        }
      ]
    },
    {
      "cell_type": "code",
      "metadata": {
        "colab": {
          "base_uri": "https://localhost:8080/"
        },
        "id": "E46URbzfmTLE",
        "outputId": "6f923aae-c043-43e7-d209-94ff07b7881e"
      },
      "source": [
        "test.labels.value_counts()"
      ],
      "execution_count": 189,
      "outputs": [
        {
          "output_type": "execute_result",
          "data": {
            "text/plain": [
              "treatment_tips        1\n",
              "what_causes           1\n",
              "professional_types    1\n",
              "treatement_options    1\n",
              "affects_whom          1\n",
              "definition            1\n",
              "right_professional    1\n",
              "recover               1\n",
              "steps                 1\n",
              "find_help             1\n",
              "Name: labels, dtype: int64"
            ]
          },
          "metadata": {
            "tags": []
          },
          "execution_count": 189
        }
      ]
    },
    {
      "cell_type": "code",
      "metadata": {
        "colab": {
          "base_uri": "https://localhost:8080/",
          "height": 418
        },
        "id": "PcbjQwN-RQui",
        "outputId": "0eebccd7-fa8c-4bdf-cedc-c8bd68ce066d"
      },
      "source": [
        "train"
      ],
      "execution_count": 190,
      "outputs": [
        {
          "output_type": "execute_result",
          "data": {
            "text/html": [
              "<div>\n",
              "<style scoped>\n",
              "    .dataframe tbody tr th:only-of-type {\n",
              "        vertical-align: middle;\n",
              "    }\n",
              "\n",
              "    .dataframe tbody tr th {\n",
              "        vertical-align: top;\n",
              "    }\n",
              "\n",
              "    .dataframe thead th {\n",
              "        text-align: right;\n",
              "    }\n",
              "</style>\n",
              "<table border=\"1\" class=\"dataframe\">\n",
              "  <thead>\n",
              "    <tr style=\"text-align: right;\">\n",
              "      <th></th>\n",
              "      <th>0</th>\n",
              "      <th>1</th>\n",
              "      <th>2</th>\n",
              "      <th>3</th>\n",
              "      <th>4</th>\n",
              "      <th>5</th>\n",
              "      <th>6</th>\n",
              "      <th>7</th>\n",
              "      <th>8</th>\n",
              "      <th>9</th>\n",
              "      <th>labels</th>\n",
              "    </tr>\n",
              "  </thead>\n",
              "  <tbody>\n",
              "    <tr>\n",
              "      <th>1</th>\n",
              "      <td>2</td>\n",
              "      <td>7</td>\n",
              "      <td>1</td>\n",
              "      <td>5</td>\n",
              "      <td>4</td>\n",
              "      <td>0</td>\n",
              "      <td>0</td>\n",
              "      <td>0</td>\n",
              "      <td>0</td>\n",
              "      <td>0</td>\n",
              "      <td>definition</td>\n",
              "    </tr>\n",
              "    <tr>\n",
              "      <th>2</th>\n",
              "      <td>29</td>\n",
              "      <td>1</td>\n",
              "      <td>5</td>\n",
              "      <td>4</td>\n",
              "      <td>0</td>\n",
              "      <td>0</td>\n",
              "      <td>0</td>\n",
              "      <td>0</td>\n",
              "      <td>0</td>\n",
              "      <td>0</td>\n",
              "      <td>definition</td>\n",
              "    </tr>\n",
              "    <tr>\n",
              "      <th>4</th>\n",
              "      <td>13</td>\n",
              "      <td>7</td>\n",
              "      <td>31</td>\n",
              "      <td>32</td>\n",
              "      <td>33</td>\n",
              "      <td>4</td>\n",
              "      <td>0</td>\n",
              "      <td>0</td>\n",
              "      <td>0</td>\n",
              "      <td>0</td>\n",
              "      <td>affects_whom</td>\n",
              "    </tr>\n",
              "    <tr>\n",
              "      <th>6</th>\n",
              "      <td>2</td>\n",
              "      <td>35</td>\n",
              "      <td>3</td>\n",
              "      <td>1</td>\n",
              "      <td>4</td>\n",
              "      <td>0</td>\n",
              "      <td>0</td>\n",
              "      <td>0</td>\n",
              "      <td>0</td>\n",
              "      <td>0</td>\n",
              "      <td>what_causes</td>\n",
              "    </tr>\n",
              "    <tr>\n",
              "      <th>7</th>\n",
              "      <td>6</td>\n",
              "      <td>12</td>\n",
              "      <td>21</td>\n",
              "      <td>36</td>\n",
              "      <td>37</td>\n",
              "      <td>38</td>\n",
              "      <td>0</td>\n",
              "      <td>0</td>\n",
              "      <td>0</td>\n",
              "      <td>0</td>\n",
              "      <td>what_causes</td>\n",
              "    </tr>\n",
              "    <tr>\n",
              "      <th>9</th>\n",
              "      <td>7</td>\n",
              "      <td>18</td>\n",
              "      <td>41</td>\n",
              "      <td>3</td>\n",
              "      <td>15</td>\n",
              "      <td>42</td>\n",
              "      <td>1</td>\n",
              "      <td>4</td>\n",
              "      <td>0</td>\n",
              "      <td>0</td>\n",
              "      <td>recover</td>\n",
              "    </tr>\n",
              "    <tr>\n",
              "      <th>11</th>\n",
              "      <td>2</td>\n",
              "      <td>16</td>\n",
              "      <td>9</td>\n",
              "      <td>47</td>\n",
              "      <td>3</td>\n",
              "      <td>48</td>\n",
              "      <td>49</td>\n",
              "      <td>50</td>\n",
              "      <td>23</td>\n",
              "      <td>22</td>\n",
              "      <td>steps</td>\n",
              "    </tr>\n",
              "    <tr>\n",
              "      <th>13</th>\n",
              "      <td>6</td>\n",
              "      <td>3</td>\n",
              "      <td>10</td>\n",
              "      <td>1</td>\n",
              "      <td>5</td>\n",
              "      <td>11</td>\n",
              "      <td>0</td>\n",
              "      <td>0</td>\n",
              "      <td>0</td>\n",
              "      <td>0</td>\n",
              "      <td>find_help</td>\n",
              "    </tr>\n",
              "    <tr>\n",
              "      <th>15</th>\n",
              "      <td>6</td>\n",
              "      <td>14</td>\n",
              "      <td>21</td>\n",
              "      <td>15</td>\n",
              "      <td>0</td>\n",
              "      <td>0</td>\n",
              "      <td>0</td>\n",
              "      <td>0</td>\n",
              "      <td>0</td>\n",
              "      <td>0</td>\n",
              "      <td>treatement_options</td>\n",
              "    </tr>\n",
              "    <tr>\n",
              "      <th>17</th>\n",
              "      <td>2</td>\n",
              "      <td>56</td>\n",
              "      <td>8</td>\n",
              "      <td>57</td>\n",
              "      <td>25</td>\n",
              "      <td>58</td>\n",
              "      <td>59</td>\n",
              "      <td>8</td>\n",
              "      <td>60</td>\n",
              "      <td>17</td>\n",
              "      <td>treatment_tips</td>\n",
              "    </tr>\n",
              "    <tr>\n",
              "      <th>19</th>\n",
              "      <td>2</td>\n",
              "      <td>16</td>\n",
              "      <td>9</td>\n",
              "      <td>63</td>\n",
              "      <td>64</td>\n",
              "      <td>23</td>\n",
              "      <td>1</td>\n",
              "      <td>5</td>\n",
              "      <td>26</td>\n",
              "      <td>65</td>\n",
              "      <td>professional_types</td>\n",
              "    </tr>\n",
              "    <tr>\n",
              "      <th>21</th>\n",
              "      <td>6</td>\n",
              "      <td>3</td>\n",
              "      <td>10</td>\n",
              "      <td>9</td>\n",
              "      <td>27</td>\n",
              "      <td>1</td>\n",
              "      <td>5</td>\n",
              "      <td>11</td>\n",
              "      <td>0</td>\n",
              "      <td>0</td>\n",
              "      <td>right_professional</td>\n",
              "    </tr>\n",
              "  </tbody>\n",
              "</table>\n",
              "</div>"
            ],
            "text/plain": [
              "     0   1   2   3   4   5   6   7   8   9              labels\n",
              "1    2   7   1   5   4   0   0   0   0   0          definition\n",
              "2   29   1   5   4   0   0   0   0   0   0          definition\n",
              "4   13   7  31  32  33   4   0   0   0   0        affects_whom\n",
              "6    2  35   3   1   4   0   0   0   0   0         what_causes\n",
              "7    6  12  21  36  37  38   0   0   0   0         what_causes\n",
              "9    7  18  41   3  15  42   1   4   0   0             recover\n",
              "11   2  16   9  47   3  48  49  50  23  22               steps\n",
              "13   6   3  10   1   5  11   0   0   0   0           find_help\n",
              "15   6  14  21  15   0   0   0   0   0   0  treatement_options\n",
              "17   2  56   8  57  25  58  59   8  60  17      treatment_tips\n",
              "19   2  16   9  63  64  23   1   5  26  65  professional_types\n",
              "21   6   3  10   9  27   1   5  11   0   0  right_professional"
            ]
          },
          "metadata": {
            "tags": []
          },
          "execution_count": 190
        }
      ]
    },
    {
      "cell_type": "code",
      "metadata": {
        "id": "G2syG8OIXtsl"
      },
      "source": [
        "X_train = train.drop(columns=['labels'],axis=1)\n",
        "y_train = train.labels\n",
        "X_test = test.drop(columns=['labels'],axis=1)\n",
        "y_test = test.labels"
      ],
      "execution_count": 191,
      "outputs": []
    },
    {
      "cell_type": "code",
      "metadata": {
        "colab": {
          "base_uri": "https://localhost:8080/",
          "height": 203
        },
        "id": "t0jjLEnErX9h",
        "outputId": "e444ff00-cc70-405f-ebdf-61fee0a57de7"
      },
      "source": [
        "X_train.head()"
      ],
      "execution_count": 192,
      "outputs": [
        {
          "output_type": "execute_result",
          "data": {
            "text/html": [
              "<div>\n",
              "<style scoped>\n",
              "    .dataframe tbody tr th:only-of-type {\n",
              "        vertical-align: middle;\n",
              "    }\n",
              "\n",
              "    .dataframe tbody tr th {\n",
              "        vertical-align: top;\n",
              "    }\n",
              "\n",
              "    .dataframe thead th {\n",
              "        text-align: right;\n",
              "    }\n",
              "</style>\n",
              "<table border=\"1\" class=\"dataframe\">\n",
              "  <thead>\n",
              "    <tr style=\"text-align: right;\">\n",
              "      <th></th>\n",
              "      <th>0</th>\n",
              "      <th>1</th>\n",
              "      <th>2</th>\n",
              "      <th>3</th>\n",
              "      <th>4</th>\n",
              "      <th>5</th>\n",
              "      <th>6</th>\n",
              "      <th>7</th>\n",
              "      <th>8</th>\n",
              "      <th>9</th>\n",
              "    </tr>\n",
              "  </thead>\n",
              "  <tbody>\n",
              "    <tr>\n",
              "      <th>1</th>\n",
              "      <td>2</td>\n",
              "      <td>7</td>\n",
              "      <td>1</td>\n",
              "      <td>5</td>\n",
              "      <td>4</td>\n",
              "      <td>0</td>\n",
              "      <td>0</td>\n",
              "      <td>0</td>\n",
              "      <td>0</td>\n",
              "      <td>0</td>\n",
              "    </tr>\n",
              "    <tr>\n",
              "      <th>2</th>\n",
              "      <td>29</td>\n",
              "      <td>1</td>\n",
              "      <td>5</td>\n",
              "      <td>4</td>\n",
              "      <td>0</td>\n",
              "      <td>0</td>\n",
              "      <td>0</td>\n",
              "      <td>0</td>\n",
              "      <td>0</td>\n",
              "      <td>0</td>\n",
              "    </tr>\n",
              "    <tr>\n",
              "      <th>4</th>\n",
              "      <td>13</td>\n",
              "      <td>7</td>\n",
              "      <td>31</td>\n",
              "      <td>32</td>\n",
              "      <td>33</td>\n",
              "      <td>4</td>\n",
              "      <td>0</td>\n",
              "      <td>0</td>\n",
              "      <td>0</td>\n",
              "      <td>0</td>\n",
              "    </tr>\n",
              "    <tr>\n",
              "      <th>6</th>\n",
              "      <td>2</td>\n",
              "      <td>35</td>\n",
              "      <td>3</td>\n",
              "      <td>1</td>\n",
              "      <td>4</td>\n",
              "      <td>0</td>\n",
              "      <td>0</td>\n",
              "      <td>0</td>\n",
              "      <td>0</td>\n",
              "      <td>0</td>\n",
              "    </tr>\n",
              "    <tr>\n",
              "      <th>7</th>\n",
              "      <td>6</td>\n",
              "      <td>12</td>\n",
              "      <td>21</td>\n",
              "      <td>36</td>\n",
              "      <td>37</td>\n",
              "      <td>38</td>\n",
              "      <td>0</td>\n",
              "      <td>0</td>\n",
              "      <td>0</td>\n",
              "      <td>0</td>\n",
              "    </tr>\n",
              "  </tbody>\n",
              "</table>\n",
              "</div>"
            ],
            "text/plain": [
              "    0   1   2   3   4   5  6  7  8  9\n",
              "1   2   7   1   5   4   0  0  0  0  0\n",
              "2  29   1   5   4   0   0  0  0  0  0\n",
              "4  13   7  31  32  33   4  0  0  0  0\n",
              "6   2  35   3   1   4   0  0  0  0  0\n",
              "7   6  12  21  36  37  38  0  0  0  0"
            ]
          },
          "metadata": {
            "tags": []
          },
          "execution_count": 192
        }
      ]
    },
    {
      "cell_type": "code",
      "metadata": {
        "id": "1cSOF7OeXtqJ"
      },
      "source": [
        "y_train =pd.get_dummies(y_train).values\n",
        "y_test =pd.get_dummies(y_test).values"
      ],
      "execution_count": 193,
      "outputs": []
    },
    {
      "cell_type": "code",
      "metadata": {
        "colab": {
          "base_uri": "https://localhost:8080/",
          "height": 357
        },
        "id": "lG_4kPvW96KK",
        "outputId": "953e0046-fa67-4b93-8c56-af3ecde9abb5"
      },
      "source": [
        "X_test"
      ],
      "execution_count": 194,
      "outputs": [
        {
          "output_type": "execute_result",
          "data": {
            "text/html": [
              "<div>\n",
              "<style scoped>\n",
              "    .dataframe tbody tr th:only-of-type {\n",
              "        vertical-align: middle;\n",
              "    }\n",
              "\n",
              "    .dataframe tbody tr th {\n",
              "        vertical-align: top;\n",
              "    }\n",
              "\n",
              "    .dataframe thead th {\n",
              "        text-align: right;\n",
              "    }\n",
              "</style>\n",
              "<table border=\"1\" class=\"dataframe\">\n",
              "  <thead>\n",
              "    <tr style=\"text-align: right;\">\n",
              "      <th></th>\n",
              "      <th>0</th>\n",
              "      <th>1</th>\n",
              "      <th>2</th>\n",
              "      <th>3</th>\n",
              "      <th>4</th>\n",
              "      <th>5</th>\n",
              "      <th>6</th>\n",
              "      <th>7</th>\n",
              "      <th>8</th>\n",
              "      <th>9</th>\n",
              "    </tr>\n",
              "  </thead>\n",
              "  <tbody>\n",
              "    <tr>\n",
              "      <th>3</th>\n",
              "      <td>13</td>\n",
              "      <td>12</td>\n",
              "      <td>1</td>\n",
              "      <td>4</td>\n",
              "      <td>30</td>\n",
              "      <td>0</td>\n",
              "      <td>0</td>\n",
              "      <td>0</td>\n",
              "      <td>0</td>\n",
              "      <td>0</td>\n",
              "    </tr>\n",
              "    <tr>\n",
              "      <th>0</th>\n",
              "      <td>2</td>\n",
              "      <td>12</td>\n",
              "      <td>18</td>\n",
              "      <td>28</td>\n",
              "      <td>3</td>\n",
              "      <td>19</td>\n",
              "      <td>20</td>\n",
              "      <td>1</td>\n",
              "      <td>4</td>\n",
              "      <td>0</td>\n",
              "    </tr>\n",
              "    <tr>\n",
              "      <th>12</th>\n",
              "      <td>6</td>\n",
              "      <td>3</td>\n",
              "      <td>10</td>\n",
              "      <td>1</td>\n",
              "      <td>5</td>\n",
              "      <td>11</td>\n",
              "      <td>51</td>\n",
              "      <td>24</td>\n",
              "      <td>0</td>\n",
              "      <td>0</td>\n",
              "    </tr>\n",
              "    <tr>\n",
              "      <th>18</th>\n",
              "      <td>2</td>\n",
              "      <td>7</td>\n",
              "      <td>9</td>\n",
              "      <td>61</td>\n",
              "      <td>62</td>\n",
              "      <td>1</td>\n",
              "      <td>5</td>\n",
              "      <td>26</td>\n",
              "      <td>0</td>\n",
              "      <td>0</td>\n",
              "    </tr>\n",
              "    <tr>\n",
              "      <th>8</th>\n",
              "      <td>14</td>\n",
              "      <td>39</td>\n",
              "      <td>40</td>\n",
              "      <td>1</td>\n",
              "      <td>4</td>\n",
              "      <td>15</td>\n",
              "      <td>0</td>\n",
              "      <td>0</td>\n",
              "      <td>0</td>\n",
              "      <td>0</td>\n",
              "    </tr>\n",
              "    <tr>\n",
              "      <th>20</th>\n",
              "      <td>6</td>\n",
              "      <td>14</td>\n",
              "      <td>8</td>\n",
              "      <td>10</td>\n",
              "      <td>20</td>\n",
              "      <td>1</td>\n",
              "      <td>5</td>\n",
              "      <td>11</td>\n",
              "      <td>27</td>\n",
              "      <td>24</td>\n",
              "    </tr>\n",
              "    <tr>\n",
              "      <th>10</th>\n",
              "      <td>8</td>\n",
              "      <td>43</td>\n",
              "      <td>44</td>\n",
              "      <td>13</td>\n",
              "      <td>45</td>\n",
              "      <td>3</td>\n",
              "      <td>19</td>\n",
              "      <td>46</td>\n",
              "      <td>22</td>\n",
              "      <td>0</td>\n",
              "    </tr>\n",
              "    <tr>\n",
              "      <th>14</th>\n",
              "      <td>2</td>\n",
              "      <td>17</td>\n",
              "      <td>52</td>\n",
              "      <td>16</td>\n",
              "      <td>53</td>\n",
              "      <td>0</td>\n",
              "      <td>0</td>\n",
              "      <td>0</td>\n",
              "      <td>0</td>\n",
              "      <td>0</td>\n",
              "    </tr>\n",
              "    <tr>\n",
              "      <th>16</th>\n",
              "      <td>6</td>\n",
              "      <td>3</td>\n",
              "      <td>54</td>\n",
              "      <td>55</td>\n",
              "      <td>25</td>\n",
              "      <td>17</td>\n",
              "      <td>0</td>\n",
              "      <td>0</td>\n",
              "      <td>0</td>\n",
              "      <td>0</td>\n",
              "    </tr>\n",
              "    <tr>\n",
              "      <th>5</th>\n",
              "      <td>2</td>\n",
              "      <td>34</td>\n",
              "      <td>1</td>\n",
              "      <td>4</td>\n",
              "      <td>0</td>\n",
              "      <td>0</td>\n",
              "      <td>0</td>\n",
              "      <td>0</td>\n",
              "      <td>0</td>\n",
              "      <td>0</td>\n",
              "    </tr>\n",
              "  </tbody>\n",
              "</table>\n",
              "</div>"
            ],
            "text/plain": [
              "     0   1   2   3   4   5   6   7   8   9\n",
              "3   13  12   1   4  30   0   0   0   0   0\n",
              "0    2  12  18  28   3  19  20   1   4   0\n",
              "12   6   3  10   1   5  11  51  24   0   0\n",
              "18   2   7   9  61  62   1   5  26   0   0\n",
              "8   14  39  40   1   4  15   0   0   0   0\n",
              "20   6  14   8  10  20   1   5  11  27  24\n",
              "10   8  43  44  13  45   3  19  46  22   0\n",
              "14   2  17  52  16  53   0   0   0   0   0\n",
              "16   6   3  54  55  25  17   0   0   0   0\n",
              "5    2  34   1   4   0   0   0   0   0   0"
            ]
          },
          "metadata": {
            "tags": []
          },
          "execution_count": 194
        }
      ]
    },
    {
      "cell_type": "code",
      "metadata": {
        "colab": {
          "base_uri": "https://localhost:8080/",
          "height": 418
        },
        "id": "bZyNYXsjfY2y",
        "outputId": "6e462b54-5e0c-45d6-a911-e361be113c6c"
      },
      "source": [
        "X_train"
      ],
      "execution_count": 195,
      "outputs": [
        {
          "output_type": "execute_result",
          "data": {
            "text/html": [
              "<div>\n",
              "<style scoped>\n",
              "    .dataframe tbody tr th:only-of-type {\n",
              "        vertical-align: middle;\n",
              "    }\n",
              "\n",
              "    .dataframe tbody tr th {\n",
              "        vertical-align: top;\n",
              "    }\n",
              "\n",
              "    .dataframe thead th {\n",
              "        text-align: right;\n",
              "    }\n",
              "</style>\n",
              "<table border=\"1\" class=\"dataframe\">\n",
              "  <thead>\n",
              "    <tr style=\"text-align: right;\">\n",
              "      <th></th>\n",
              "      <th>0</th>\n",
              "      <th>1</th>\n",
              "      <th>2</th>\n",
              "      <th>3</th>\n",
              "      <th>4</th>\n",
              "      <th>5</th>\n",
              "      <th>6</th>\n",
              "      <th>7</th>\n",
              "      <th>8</th>\n",
              "      <th>9</th>\n",
              "    </tr>\n",
              "  </thead>\n",
              "  <tbody>\n",
              "    <tr>\n",
              "      <th>1</th>\n",
              "      <td>2</td>\n",
              "      <td>7</td>\n",
              "      <td>1</td>\n",
              "      <td>5</td>\n",
              "      <td>4</td>\n",
              "      <td>0</td>\n",
              "      <td>0</td>\n",
              "      <td>0</td>\n",
              "      <td>0</td>\n",
              "      <td>0</td>\n",
              "    </tr>\n",
              "    <tr>\n",
              "      <th>2</th>\n",
              "      <td>29</td>\n",
              "      <td>1</td>\n",
              "      <td>5</td>\n",
              "      <td>4</td>\n",
              "      <td>0</td>\n",
              "      <td>0</td>\n",
              "      <td>0</td>\n",
              "      <td>0</td>\n",
              "      <td>0</td>\n",
              "      <td>0</td>\n",
              "    </tr>\n",
              "    <tr>\n",
              "      <th>4</th>\n",
              "      <td>13</td>\n",
              "      <td>7</td>\n",
              "      <td>31</td>\n",
              "      <td>32</td>\n",
              "      <td>33</td>\n",
              "      <td>4</td>\n",
              "      <td>0</td>\n",
              "      <td>0</td>\n",
              "      <td>0</td>\n",
              "      <td>0</td>\n",
              "    </tr>\n",
              "    <tr>\n",
              "      <th>6</th>\n",
              "      <td>2</td>\n",
              "      <td>35</td>\n",
              "      <td>3</td>\n",
              "      <td>1</td>\n",
              "      <td>4</td>\n",
              "      <td>0</td>\n",
              "      <td>0</td>\n",
              "      <td>0</td>\n",
              "      <td>0</td>\n",
              "      <td>0</td>\n",
              "    </tr>\n",
              "    <tr>\n",
              "      <th>7</th>\n",
              "      <td>6</td>\n",
              "      <td>12</td>\n",
              "      <td>21</td>\n",
              "      <td>36</td>\n",
              "      <td>37</td>\n",
              "      <td>38</td>\n",
              "      <td>0</td>\n",
              "      <td>0</td>\n",
              "      <td>0</td>\n",
              "      <td>0</td>\n",
              "    </tr>\n",
              "    <tr>\n",
              "      <th>9</th>\n",
              "      <td>7</td>\n",
              "      <td>18</td>\n",
              "      <td>41</td>\n",
              "      <td>3</td>\n",
              "      <td>15</td>\n",
              "      <td>42</td>\n",
              "      <td>1</td>\n",
              "      <td>4</td>\n",
              "      <td>0</td>\n",
              "      <td>0</td>\n",
              "    </tr>\n",
              "    <tr>\n",
              "      <th>11</th>\n",
              "      <td>2</td>\n",
              "      <td>16</td>\n",
              "      <td>9</td>\n",
              "      <td>47</td>\n",
              "      <td>3</td>\n",
              "      <td>48</td>\n",
              "      <td>49</td>\n",
              "      <td>50</td>\n",
              "      <td>23</td>\n",
              "      <td>22</td>\n",
              "    </tr>\n",
              "    <tr>\n",
              "      <th>13</th>\n",
              "      <td>6</td>\n",
              "      <td>3</td>\n",
              "      <td>10</td>\n",
              "      <td>1</td>\n",
              "      <td>5</td>\n",
              "      <td>11</td>\n",
              "      <td>0</td>\n",
              "      <td>0</td>\n",
              "      <td>0</td>\n",
              "      <td>0</td>\n",
              "    </tr>\n",
              "    <tr>\n",
              "      <th>15</th>\n",
              "      <td>6</td>\n",
              "      <td>14</td>\n",
              "      <td>21</td>\n",
              "      <td>15</td>\n",
              "      <td>0</td>\n",
              "      <td>0</td>\n",
              "      <td>0</td>\n",
              "      <td>0</td>\n",
              "      <td>0</td>\n",
              "      <td>0</td>\n",
              "    </tr>\n",
              "    <tr>\n",
              "      <th>17</th>\n",
              "      <td>2</td>\n",
              "      <td>56</td>\n",
              "      <td>8</td>\n",
              "      <td>57</td>\n",
              "      <td>25</td>\n",
              "      <td>58</td>\n",
              "      <td>59</td>\n",
              "      <td>8</td>\n",
              "      <td>60</td>\n",
              "      <td>17</td>\n",
              "    </tr>\n",
              "    <tr>\n",
              "      <th>19</th>\n",
              "      <td>2</td>\n",
              "      <td>16</td>\n",
              "      <td>9</td>\n",
              "      <td>63</td>\n",
              "      <td>64</td>\n",
              "      <td>23</td>\n",
              "      <td>1</td>\n",
              "      <td>5</td>\n",
              "      <td>26</td>\n",
              "      <td>65</td>\n",
              "    </tr>\n",
              "    <tr>\n",
              "      <th>21</th>\n",
              "      <td>6</td>\n",
              "      <td>3</td>\n",
              "      <td>10</td>\n",
              "      <td>9</td>\n",
              "      <td>27</td>\n",
              "      <td>1</td>\n",
              "      <td>5</td>\n",
              "      <td>11</td>\n",
              "      <td>0</td>\n",
              "      <td>0</td>\n",
              "    </tr>\n",
              "  </tbody>\n",
              "</table>\n",
              "</div>"
            ],
            "text/plain": [
              "     0   1   2   3   4   5   6   7   8   9\n",
              "1    2   7   1   5   4   0   0   0   0   0\n",
              "2   29   1   5   4   0   0   0   0   0   0\n",
              "4   13   7  31  32  33   4   0   0   0   0\n",
              "6    2  35   3   1   4   0   0   0   0   0\n",
              "7    6  12  21  36  37  38   0   0   0   0\n",
              "9    7  18  41   3  15  42   1   4   0   0\n",
              "11   2  16   9  47   3  48  49  50  23  22\n",
              "13   6   3  10   1   5  11   0   0   0   0\n",
              "15   6  14  21  15   0   0   0   0   0   0\n",
              "17   2  56   8  57  25  58  59   8  60  17\n",
              "19   2  16   9  63  64  23   1   5  26  65\n",
              "21   6   3  10   9  27   1   5  11   0   0"
            ]
          },
          "metadata": {
            "tags": []
          },
          "execution_count": 195
        }
      ]
    },
    {
      "cell_type": "code",
      "metadata": {
        "colab": {
          "base_uri": "https://localhost:8080/"
        },
        "id": "wWFWgav5B-pH",
        "outputId": "cb4ed15f-5382-476e-a2f8-cf55f306ae84"
      },
      "source": [
        "y_train"
      ],
      "execution_count": 196,
      "outputs": [
        {
          "output_type": "execute_result",
          "data": {
            "text/plain": [
              "array([[0, 1, 0, 0, 0, 0, 0, 0, 0, 0],\n",
              "       [0, 1, 0, 0, 0, 0, 0, 0, 0, 0],\n",
              "       [1, 0, 0, 0, 0, 0, 0, 0, 0, 0],\n",
              "       [0, 0, 0, 0, 0, 0, 0, 0, 0, 1],\n",
              "       [0, 0, 0, 0, 0, 0, 0, 0, 0, 1],\n",
              "       [0, 0, 0, 0, 1, 0, 0, 0, 0, 0],\n",
              "       [0, 0, 0, 0, 0, 0, 1, 0, 0, 0],\n",
              "       [0, 0, 1, 0, 0, 0, 0, 0, 0, 0],\n",
              "       [0, 0, 0, 0, 0, 0, 0, 1, 0, 0],\n",
              "       [0, 0, 0, 0, 0, 0, 0, 0, 1, 0],\n",
              "       [0, 0, 0, 1, 0, 0, 0, 0, 0, 0],\n",
              "       [0, 0, 0, 0, 0, 1, 0, 0, 0, 0]], dtype=uint8)"
            ]
          },
          "metadata": {
            "tags": []
          },
          "execution_count": 196
        }
      ]
    },
    {
      "cell_type": "code",
      "metadata": {
        "colab": {
          "base_uri": "https://localhost:8080/"
        },
        "id": "xvhKy5u6mM0k",
        "outputId": "2c3889ca-337e-4cad-be92-984234f8ed31"
      },
      "source": [
        "y_train[0]"
      ],
      "execution_count": 197,
      "outputs": [
        {
          "output_type": "execute_result",
          "data": {
            "text/plain": [
              "array([0, 1, 0, 0, 0, 0, 0, 0, 0, 0], dtype=uint8)"
            ]
          },
          "metadata": {
            "tags": []
          },
          "execution_count": 197
        }
      ]
    },
    {
      "cell_type": "code",
      "metadata": {
        "colab": {
          "base_uri": "https://localhost:8080/"
        },
        "id": "pPZDWFkBmOdx",
        "outputId": "5ae5e495-7ca3-4f7c-8ed7-4d6af7a3413b"
      },
      "source": [
        "y_test"
      ],
      "execution_count": 198,
      "outputs": [
        {
          "output_type": "execute_result",
          "data": {
            "text/plain": [
              "array([[1, 0, 0, 0, 0, 0, 0, 0, 0, 0],\n",
              "       [0, 1, 0, 0, 0, 0, 0, 0, 0, 0],\n",
              "       [0, 0, 1, 0, 0, 0, 0, 0, 0, 0],\n",
              "       [0, 0, 0, 1, 0, 0, 0, 0, 0, 0],\n",
              "       [0, 0, 0, 0, 1, 0, 0, 0, 0, 0],\n",
              "       [0, 0, 0, 0, 0, 1, 0, 0, 0, 0],\n",
              "       [0, 0, 0, 0, 0, 0, 1, 0, 0, 0],\n",
              "       [0, 0, 0, 0, 0, 0, 0, 1, 0, 0],\n",
              "       [0, 0, 0, 0, 0, 0, 0, 0, 1, 0],\n",
              "       [0, 0, 0, 0, 0, 0, 0, 0, 0, 1]], dtype=uint8)"
            ]
          },
          "metadata": {
            "tags": []
          },
          "execution_count": 198
        }
      ]
    },
    {
      "cell_type": "code",
      "metadata": {
        "colab": {
          "base_uri": "https://localhost:8080/"
        },
        "id": "X_urYiDyXtn5",
        "outputId": "bd674f43-900b-410a-d670-309243eac8ae"
      },
      "source": [
        "y_train[0].shape,y_test[0].shape"
      ],
      "execution_count": 199,
      "outputs": [
        {
          "output_type": "execute_result",
          "data": {
            "text/plain": [
              "((10,), (10,))"
            ]
          },
          "metadata": {
            "tags": []
          },
          "execution_count": 199
        }
      ]
    },
    {
      "cell_type": "code",
      "metadata": {
        "colab": {
          "base_uri": "https://localhost:8080/"
        },
        "id": "0jMrfnwKX1DC",
        "outputId": "832af3f7-4495-4c08-b90c-c97eff02dabf"
      },
      "source": [
        "X_train.shape"
      ],
      "execution_count": 200,
      "outputs": [
        {
          "output_type": "execute_result",
          "data": {
            "text/plain": [
              "(12, 10)"
            ]
          },
          "metadata": {
            "tags": []
          },
          "execution_count": 200
        }
      ]
    },
    {
      "cell_type": "code",
      "metadata": {
        "colab": {
          "base_uri": "https://localhost:8080/"
        },
        "id": "Yf1it_OmmurY",
        "outputId": "d3e15ac4-58c1-4ce6-d228-7b380c988c78"
      },
      "source": [
        "X_test.shape"
      ],
      "execution_count": 201,
      "outputs": [
        {
          "output_type": "execute_result",
          "data": {
            "text/plain": [
              "(10, 10)"
            ]
          },
          "metadata": {
            "tags": []
          },
          "execution_count": 201
        }
      ]
    },
    {
      "cell_type": "code",
      "metadata": {
        "id": "fJHi-DiIX0_D"
      },
      "source": [
        "max_length = X_train.shape[1]\n",
        "output = 16                  # no of classes"
      ],
      "execution_count": 202,
      "outputs": []
    },
    {
      "cell_type": "markdown",
      "metadata": {
        "id": "v72uEhyGCk8Z"
      },
      "source": [
        "Reference for the model below:\n",
        "\n",
        "*   https://keras.io/api/callbacks/model_checkpoint/\n",
        "*   https://www.tensorflow.org/api_docs/python/tf/keras/callbacks/ReduceLROnPlateau"
      ]
    },
    {
      "cell_type": "code",
      "metadata": {
        "id": "QtCFWykAX08b"
      },
      "source": [
        "early_stopping = EarlyStopping(monitor='val_loss',patience=10) #patience : number of epochs with no improvement after which training will be stopped\n",
        "\n",
        "checkpoint = ModelCheckpoint(\"model-v1.h5\",\n",
        "                             monitor=\"val_loss\",\n",
        "                             mode=\"min\",\n",
        "                             save_best_only = True,\n",
        "                             verbose=1)\n",
        "\n",
        "reduce_lr = ReduceLROnPlateau(monitor = 'val_loss', factor = 0.2, patience = 3, verbose = 1, min_delta = 0.0001)\n",
        "\n",
        "callbacks = [early_stopping,checkpoint,reduce_lr]"
      ],
      "execution_count": 203,
      "outputs": []
    },
    {
      "cell_type": "markdown",
      "metadata": {
        "id": "65wJtH4MG0It"
      },
      "source": [
        "References : \n",
        "* Word embeddings - https://machinelearningmastery.com/use-word-embedding-layers-deep-learning-keras/\n",
        "* 2D CNN when we have 3D features, such as RGB - \n",
        "https://missinglink.ai/guides/keras/keras-conv1d-working-1d-convolutional-neural-networks-keras/\n",
        "* Pooling layers reduce the size of the representation to speed up the computation and make features robust\n",
        "* Add a \"flatten\" layer which prepares a vector for the fully connected layers, for example using Sequential.add(Flatten()) -  \n",
        "https://missinglink.ai/guides/keras/using-keras-flatten-operation-cnn-models-code-examples/\n",
        "* Dense layer - A fully connected layer also known as the dense layer, in which the results of the convolutional layers are fed through one or more neural layers to generate a prediction\n",
        "* Activation functions - https://towardsdatascience.com/activation-functions-neural-networks-1cbd9f8d91d6 "
      ]
    },
    {
      "cell_type": "markdown",
      "metadata": {
        "id": "5zfZy2tABMkl"
      },
      "source": [
        "## Vanilla RNN"
      ]
    },
    {
      "cell_type": "markdown",
      "metadata": {
        "id": "6uwe7aPetEi3"
      },
      "source": [
        "* Why use embedding layer before RNN/ LSTM layer -\n",
        "https://towardsdatascience.com/deep-learning-4-embedding-layers-f9a02d55ac12\n",
        "* Learning curves - https://www.dataquest.io/blog/learning-curves-machine-learning/\n",
        "\n",
        "\n",
        "\n"
      ]
    },
    {
      "cell_type": "code",
      "metadata": {
        "id": "AOvE1ucyMcUZ"
      },
      "source": [
        "def define_model1(vocab_size, max_length):\n",
        "    model1 = Sequential()\n",
        "    model1.add(Embedding(vocab_size,100, input_length=max_length))\n",
        "    model1.add(SimpleRNN(100))\n",
        "    model1.add(Dense(10, activation='softmax'))   \n",
        "    \n",
        "    model1.compile(loss = 'categorical_crossentropy',optimizer = 'adam',metrics = ['accuracy'])\n",
        "    \n",
        "    # summarize defined model\n",
        "    model1.summary()\n",
        "    plot_model(model1, to_file='model_1.png', show_shapes=True)\n",
        "    return model1"
      ],
      "execution_count": 204,
      "outputs": []
    },
    {
      "cell_type": "code",
      "metadata": {
        "colab": {
          "base_uri": "https://localhost:8080/"
        },
        "id": "Toir2G_NNEsX",
        "outputId": "98112820-925a-41a4-eea9-28ac0da91f8d"
      },
      "source": [
        "model1 = define_model1(vocab_size, max_length)"
      ],
      "execution_count": 205,
      "outputs": [
        {
          "output_type": "stream",
          "text": [
            "Model: \"sequential_11\"\n",
            "_________________________________________________________________\n",
            "Layer (type)                 Output Shape              Param #   \n",
            "=================================================================\n",
            "embedding_11 (Embedding)     (None, 10, 100)           6600      \n",
            "_________________________________________________________________\n",
            "simple_rnn_1 (SimpleRNN)     (None, 100)               20100     \n",
            "_________________________________________________________________\n",
            "dense_17 (Dense)             (None, 10)                1010      \n",
            "=================================================================\n",
            "Total params: 27,710\n",
            "Trainable params: 27,710\n",
            "Non-trainable params: 0\n",
            "_________________________________________________________________\n"
          ],
          "name": "stdout"
        }
      ]
    },
    {
      "cell_type": "code",
      "metadata": {
        "colab": {
          "base_uri": "https://localhost:8080/"
        },
        "id": "pTFpfCkUNEpg",
        "outputId": "9191868b-6612-4c08-c99b-1babf28333bb"
      },
      "source": [
        "history1 = model1.fit(X_train, y_train, epochs=10, verbose=1,validation_data=(X_test,y_test),callbacks=callbacks)#,callbacks=callbacks)"
      ],
      "execution_count": 206,
      "outputs": [
        {
          "output_type": "stream",
          "text": [
            "Epoch 1/10\n",
            "1/1 [==============================] - 1s 1s/step - loss: 2.3292 - accuracy: 0.0000e+00 - val_loss: 2.2525 - val_accuracy: 0.2000\n",
            "\n",
            "Epoch 00001: val_loss improved from inf to 2.25255, saving model to model-v1.h5\n",
            "Epoch 2/10\n",
            "1/1 [==============================] - 0s 26ms/step - loss: 2.1983 - accuracy: 0.4167 - val_loss: 2.2383 - val_accuracy: 0.2000\n",
            "\n",
            "Epoch 00002: val_loss improved from 2.25255 to 2.23826, saving model to model-v1.h5\n",
            "Epoch 3/10\n",
            "1/1 [==============================] - 0s 31ms/step - loss: 2.0700 - accuracy: 0.6667 - val_loss: 2.2253 - val_accuracy: 0.2000\n",
            "\n",
            "Epoch 00003: val_loss improved from 2.23826 to 2.22530, saving model to model-v1.h5\n",
            "Epoch 4/10\n",
            "1/1 [==============================] - 0s 28ms/step - loss: 1.9425 - accuracy: 0.6667 - val_loss: 2.2134 - val_accuracy: 0.2000\n",
            "\n",
            "Epoch 00004: val_loss improved from 2.22530 to 2.21343, saving model to model-v1.h5\n",
            "Epoch 5/10\n",
            "1/1 [==============================] - 0s 33ms/step - loss: 1.8144 - accuracy: 0.7500 - val_loss: 2.2025 - val_accuracy: 0.2000\n",
            "\n",
            "Epoch 00005: val_loss improved from 2.21343 to 2.20254, saving model to model-v1.h5\n",
            "Epoch 6/10\n",
            "1/1 [==============================] - 0s 24ms/step - loss: 1.6845 - accuracy: 0.8333 - val_loss: 2.1926 - val_accuracy: 0.2000\n",
            "\n",
            "Epoch 00006: val_loss improved from 2.20254 to 2.19263, saving model to model-v1.h5\n",
            "Epoch 7/10\n",
            "1/1 [==============================] - 0s 26ms/step - loss: 1.5521 - accuracy: 0.8333 - val_loss: 2.1837 - val_accuracy: 0.1000\n",
            "\n",
            "Epoch 00007: val_loss improved from 2.19263 to 2.18374, saving model to model-v1.h5\n",
            "Epoch 8/10\n",
            "1/1 [==============================] - 0s 26ms/step - loss: 1.4169 - accuracy: 0.9167 - val_loss: 2.1760 - val_accuracy: 0.1000\n",
            "\n",
            "Epoch 00008: val_loss improved from 2.18374 to 2.17604, saving model to model-v1.h5\n",
            "Epoch 9/10\n",
            "1/1 [==============================] - 0s 24ms/step - loss: 1.2790 - accuracy: 0.9167 - val_loss: 2.1699 - val_accuracy: 0.1000\n",
            "\n",
            "Epoch 00009: val_loss improved from 2.17604 to 2.16993, saving model to model-v1.h5\n",
            "Epoch 10/10\n",
            "1/1 [==============================] - 0s 31ms/step - loss: 1.1395 - accuracy: 0.9167 - val_loss: 2.1661 - val_accuracy: 0.1000\n",
            "\n",
            "Epoch 00010: val_loss improved from 2.16993 to 2.16611, saving model to model-v1.h5\n"
          ],
          "name": "stdout"
        }
      ]
    },
    {
      "cell_type": "code",
      "metadata": {
        "id": "k0I_FjV6mDQR",
        "colab": {
          "base_uri": "https://localhost:8080/",
          "height": 513
        },
        "outputId": "647955ed-729d-432f-b78f-52d08bf8798d"
      },
      "source": [
        "# Learning curves \n",
        "\n",
        "acc = history1.history['accuracy']\n",
        "val_acc = history1.history['val_accuracy']\n",
        "loss=history1.history['loss']\n",
        "val_loss=history1.history['val_loss']\n",
        "\n",
        "plt.figure(figsize=(16,8))\n",
        "plt.subplot(1, 2, 1)\n",
        "plt.plot(acc, label='Training Accuracy')\n",
        "plt.plot(val_acc, label='Validation Accuracy')\n",
        "plt.legend(loc='lower right')\n",
        "plt.title('Training and Validation Accuracy')\n",
        "plt.xlabel(\"epochs\")\n",
        "plt.ylabel(\"accuracy\")\n",
        "\n",
        "plt.subplot(1, 2, 2)\n",
        "plt.plot(loss, label='Training Loss')\n",
        "plt.plot(val_loss, label='Validation Loss')\n",
        "plt.legend(loc='upper right')\n",
        "plt.title('Training and Validation Loss')\n",
        "plt.xlabel(\"epochs\")\n",
        "plt.ylabel(\"loss\")\n",
        "plt.show()"
      ],
      "execution_count": 207,
      "outputs": [
        {
          "output_type": "display_data",
          "data": {
            "image/png": "[encoded data removed]",
            "text/plain": [
              "<Figure size 1152x576 with 2 Axes>"
            ]
          },
          "metadata": {
            "tags": [],
            "needs_background": "light"
          }
        }
      ]
    },
    {
      "cell_type": "markdown",
      "metadata": {
        "id": "mdIDkqyABJbr"
      },
      "source": [
        "## CNN"
      ]
    },
    {
      "cell_type": "code",
      "metadata": {
        "id": "0sR_Z8kDX8VD"
      },
      "source": [
        "def define_model2(vocab_size, max_length):\n",
        "    model2 = Sequential()\n",
        "    model2.add(Embedding(vocab_size,300, input_length=max_length))\n",
        "    model2.add(Conv1D(filters=32, kernel_size=2, activation='relu'))\n",
        "    model2.add(MaxPooling1D(pool_size = 4))\n",
        "    model2.add(Flatten())\n",
        "    model2.add(Dense(32, activation='relu'))\n",
        "    model2.add(Dense(10, activation='softmax'))\n",
        "    \n",
        "    model2.compile(loss = 'categorical_crossentropy',optimizer = 'adam',metrics = ['accuracy'])\n",
        "    \n",
        "    # summarize defined model\n",
        "    model2.summary()\n",
        "    return model2"
      ],
      "execution_count": 208,
      "outputs": []
    },
    {
      "cell_type": "code",
      "metadata": {
        "id": "n1ePmE7PX8R0",
        "colab": {
          "base_uri": "https://localhost:8080/"
        },
        "outputId": "94070aba-3771-4325-e72a-27f8f9475f7d"
      },
      "source": [
        "model2 = define_model2(vocab_size, max_length)"
      ],
      "execution_count": 209,
      "outputs": [
        {
          "output_type": "stream",
          "text": [
            "Model: \"sequential_12\"\n",
            "_________________________________________________________________\n",
            "Layer (type)                 Output Shape              Param #   \n",
            "=================================================================\n",
            "embedding_12 (Embedding)     (None, 10, 300)           19800     \n",
            "_________________________________________________________________\n",
            "conv1d_6 (Conv1D)            (None, 9, 32)             19232     \n",
            "_________________________________________________________________\n",
            "max_pooling1d_6 (MaxPooling1 (None, 2, 32)             0         \n",
            "_________________________________________________________________\n",
            "flatten_6 (Flatten)          (None, 64)                0         \n",
            "_________________________________________________________________\n",
            "dense_18 (Dense)             (None, 32)                2080      \n",
            "_________________________________________________________________\n",
            "dense_19 (Dense)             (None, 10)                330       \n",
            "=================================================================\n",
            "Total params: 41,442\n",
            "Trainable params: 41,442\n",
            "Non-trainable params: 0\n",
            "_________________________________________________________________\n"
          ],
          "name": "stdout"
        }
      ]
    },
    {
      "cell_type": "code",
      "metadata": {
        "id": "CnC_x02JX8Pd",
        "colab": {
          "base_uri": "https://localhost:8080/"
        },
        "outputId": "93ae2b41-a447-4a9d-fa8b-952ceea4b9f6"
      },
      "source": [
        "history = model2.fit(X_train, y_train, epochs=15, verbose=1,validation_data=(X_test,y_test),callbacks=callbacks)"
      ],
      "execution_count": 210,
      "outputs": [
        {
          "output_type": "stream",
          "text": [
            "Epoch 1/15\n",
            "1/1 [==============================] - 1s 726ms/step - loss: 2.3112 - accuracy: 0.0833 - val_loss: 2.3049 - val_accuracy: 0.1000\n",
            "\n",
            "Epoch 00001: val_loss did not improve from 2.16611\n",
            "Epoch 2/15\n",
            "1/1 [==============================] - 0s 31ms/step - loss: 2.2691 - accuracy: 0.1667 - val_loss: 2.3024 - val_accuracy: 0.1000\n",
            "\n",
            "Epoch 00002: val_loss did not improve from 2.16611\n",
            "Epoch 3/15\n",
            "1/1 [==============================] - 0s 27ms/step - loss: 2.2373 - accuracy: 0.3333 - val_loss: 2.3003 - val_accuracy: 0.1000\n",
            "\n",
            "Epoch 00003: val_loss did not improve from 2.16611\n",
            "Epoch 4/15\n",
            "1/1 [==============================] - 0s 27ms/step - loss: 2.2111 - accuracy: 0.5833 - val_loss: 2.2976 - val_accuracy: 0.1000\n",
            "\n",
            "Epoch 00004: val_loss did not improve from 2.16611\n",
            "Epoch 5/15\n",
            "1/1 [==============================] - 0s 25ms/step - loss: 2.1858 - accuracy: 0.6667 - val_loss: 2.2958 - val_accuracy: 0.1000\n",
            "\n",
            "Epoch 00005: val_loss did not improve from 2.16611\n",
            "Epoch 6/15\n",
            "1/1 [==============================] - 0s 28ms/step - loss: 2.1604 - accuracy: 0.6667 - val_loss: 2.2939 - val_accuracy: 0.2000\n",
            "\n",
            "Epoch 00006: val_loss did not improve from 2.16611\n",
            "Epoch 7/15\n",
            "1/1 [==============================] - 0s 23ms/step - loss: 2.1345 - accuracy: 0.6667 - val_loss: 2.2923 - val_accuracy: 0.2000\n",
            "\n",
            "Epoch 00007: val_loss did not improve from 2.16611\n",
            "Epoch 8/15\n",
            "1/1 [==============================] - 0s 26ms/step - loss: 2.1074 - accuracy: 0.6667 - val_loss: 2.2900 - val_accuracy: 0.3000\n",
            "\n",
            "Epoch 00008: val_loss did not improve from 2.16611\n",
            "Epoch 9/15\n",
            "1/1 [==============================] - 0s 25ms/step - loss: 2.0791 - accuracy: 0.7500 - val_loss: 2.2875 - val_accuracy: 0.3000\n",
            "\n",
            "Epoch 00009: val_loss did not improve from 2.16611\n",
            "Epoch 10/15\n",
            "1/1 [==============================] - 0s 34ms/step - loss: 2.0500 - accuracy: 0.7500 - val_loss: 2.2852 - val_accuracy: 0.3000\n",
            "\n",
            "Epoch 00010: val_loss did not improve from 2.16611\n",
            "Epoch 11/15\n",
            "1/1 [==============================] - 0s 30ms/step - loss: 2.0197 - accuracy: 0.8333 - val_loss: 2.2833 - val_accuracy: 0.3000\n",
            "\n",
            "Epoch 00011: val_loss did not improve from 2.16611\n",
            "Epoch 12/15\n",
            "1/1 [==============================] - 0s 27ms/step - loss: 1.9883 - accuracy: 0.8333 - val_loss: 2.2817 - val_accuracy: 0.3000\n",
            "\n",
            "Epoch 00012: val_loss did not improve from 2.16611\n",
            "Epoch 13/15\n",
            "1/1 [==============================] - 0s 27ms/step - loss: 1.9563 - accuracy: 0.8333 - val_loss: 2.2804 - val_accuracy: 0.3000\n",
            "\n",
            "Epoch 00013: val_loss did not improve from 2.16611\n",
            "Epoch 14/15\n",
            "1/1 [==============================] - 0s 29ms/step - loss: 1.9232 - accuracy: 0.8333 - val_loss: 2.2791 - val_accuracy: 0.3000\n",
            "\n",
            "Epoch 00014: val_loss did not improve from 2.16611\n",
            "Epoch 15/15\n",
            "1/1 [==============================] - 0s 31ms/step - loss: 1.8894 - accuracy: 0.8333 - val_loss: 2.2775 - val_accuracy: 0.3000\n",
            "\n",
            "Epoch 00015: val_loss did not improve from 2.16611\n"
          ],
          "name": "stdout"
        }
      ]
    },
    {
      "cell_type": "code",
      "metadata": {
        "id": "SMNZHhfqYEQ9",
        "colab": {
          "base_uri": "https://localhost:8080/",
          "height": 513
        },
        "outputId": "0c81da43-c58a-419d-b477-9afb5cb5c262"
      },
      "source": [
        "# Learning curves \n",
        "\n",
        "acc = history.history['accuracy']\n",
        "val_acc = history.history['val_accuracy']\n",
        "loss=history.history['loss']\n",
        "val_loss=history.history['val_loss']\n",
        "\n",
        "plt.figure(figsize=(16,8))\n",
        "plt.subplot(1, 2, 1)\n",
        "plt.plot(acc, label='Training Accuracy')\n",
        "plt.plot(val_acc, label='Validation Accuracy')\n",
        "plt.legend(loc='lower right')\n",
        "plt.title('Training and Validation Accuracy')\n",
        "plt.xlabel(\"epochs\")\n",
        "plt.ylabel(\"accuracy\")\n",
        "\n",
        "plt.subplot(1, 2, 2)\n",
        "plt.plot(loss, label='Training Loss')\n",
        "plt.plot(val_loss, label='Validation Loss')\n",
        "plt.legend(loc='upper right')\n",
        "plt.title('Training and Validation Loss')\n",
        "plt.xlabel(\"epochs\")\n",
        "plt.ylabel(\"loss\")\n",
        "plt.show()"
      ],
      "execution_count": 211,
      "outputs": [
        {
          "output_type": "display_data",
          "data": {
            "image/png": "[encoded data removed]",
            "text/plain": [
              "<Figure size 1152x576 with 2 Axes>"
            ]
          },
          "metadata": {
            "tags": [],
            "needs_background": "light"
          }
        }
      ]
    },
    {
      "cell_type": "markdown",
      "metadata": {
        "id": "I_PRZPplHqmV"
      },
      "source": [
        "## LSTM"
      ]
    },
    {
      "cell_type": "code",
      "metadata": {
        "id": "-T3A0-TWmDS8"
      },
      "source": [
        "def define_model3(vocab_size, max_length):\n",
        "    model3 = Sequential()\n",
        "    model3.add(Embedding(vocab_size,300, input_length=max_length))\n",
        "    model3.add(LSTM(500))\n",
        "    model3.add(Dense(10, activation='softmax'))\n",
        "    \n",
        "    model3.compile(loss = 'categorical_crossentropy',optimizer = 'adam',metrics = ['accuracy'])\n",
        "    \n",
        "    # summarize defined model\n",
        "    model3.summary()\n",
        "    return model3"
      ],
      "execution_count": 212,
      "outputs": []
    },
    {
      "cell_type": "code",
      "metadata": {
        "id": "iNtO1edjHxt6",
        "colab": {
          "base_uri": "https://localhost:8080/"
        },
        "outputId": "649205f4-53fa-4ba1-909b-827dab404f80"
      },
      "source": [
        "model3 = define_model3(vocab_size, max_length)"
      ],
      "execution_count": 213,
      "outputs": [
        {
          "output_type": "stream",
          "text": [
            "Model: \"sequential_13\"\n",
            "_________________________________________________________________\n",
            "Layer (type)                 Output Shape              Param #   \n",
            "=================================================================\n",
            "embedding_13 (Embedding)     (None, 10, 300)           19800     \n",
            "_________________________________________________________________\n",
            "lstm_3 (LSTM)                (None, 500)               1602000   \n",
            "_________________________________________________________________\n",
            "dense_20 (Dense)             (None, 10)                5010      \n",
            "=================================================================\n",
            "Total params: 1,626,810\n",
            "Trainable params: 1,626,810\n",
            "Non-trainable params: 0\n",
            "_________________________________________________________________\n"
          ],
          "name": "stdout"
        }
      ]
    },
    {
      "cell_type": "code",
      "metadata": {
        "id": "FGq3NSaJCoJg",
        "colab": {
          "base_uri": "https://localhost:8080/"
        },
        "outputId": "8bbbeb09-6b9c-45c8-ef4e-38beb1ffa860"
      },
      "source": [
        "history = model3.fit(X_train, y_train, epochs=15, verbose=1,validation_data=(X_test,y_test))"
      ],
      "execution_count": 214,
      "outputs": [
        {
          "output_type": "stream",
          "text": [
            "Epoch 1/15\n",
            "1/1 [==============================] - 3s 3s/step - loss: 2.3083 - accuracy: 0.0000e+00 - val_loss: 2.2926 - val_accuracy: 0.0000e+00\n",
            "Epoch 2/15\n",
            "1/1 [==============================] - 0s 133ms/step - loss: 2.2516 - accuracy: 0.4167 - val_loss: 2.2838 - val_accuracy: 0.0000e+00\n",
            "Epoch 3/15\n",
            "1/1 [==============================] - 0s 137ms/step - loss: 2.1940 - accuracy: 0.5000 - val_loss: 2.2778 - val_accuracy: 0.0000e+00\n",
            "Epoch 4/15\n",
            "1/1 [==============================] - 0s 131ms/step - loss: 2.1284 - accuracy: 0.4167 - val_loss: 2.2784 - val_accuracy: 0.1000\n",
            "Epoch 5/15\n",
            "1/1 [==============================] - 0s 142ms/step - loss: 2.0497 - accuracy: 0.4167 - val_loss: 2.2973 - val_accuracy: 0.1000\n",
            "Epoch 6/15\n",
            "1/1 [==============================] - 0s 125ms/step - loss: 1.9577 - accuracy: 0.4167 - val_loss: 2.3552 - val_accuracy: 0.1000\n",
            "Epoch 7/15\n",
            "1/1 [==============================] - 0s 129ms/step - loss: 1.8612 - accuracy: 0.4167 - val_loss: 2.4475 - val_accuracy: 0.0000e+00\n",
            "Epoch 8/15\n",
            "1/1 [==============================] - 0s 132ms/step - loss: 1.7635 - accuracy: 0.4167 - val_loss: 2.4854 - val_accuracy: 0.1000\n",
            "Epoch 9/15\n",
            "1/1 [==============================] - 0s 140ms/step - loss: 1.6277 - accuracy: 0.4167 - val_loss: 2.4565 - val_accuracy: 0.2000\n",
            "Epoch 10/15\n",
            "1/1 [==============================] - 0s 130ms/step - loss: 1.4555 - accuracy: 0.5833 - val_loss: 2.4346 - val_accuracy: 0.2000\n",
            "Epoch 11/15\n",
            "1/1 [==============================] - 0s 138ms/step - loss: 1.3032 - accuracy: 0.7500 - val_loss: 2.5057 - val_accuracy: 0.2000\n",
            "Epoch 12/15\n",
            "1/1 [==============================] - 0s 144ms/step - loss: 1.2285 - accuracy: 0.5833 - val_loss: 2.6921 - val_accuracy: 0.2000\n",
            "Epoch 13/15\n",
            "1/1 [==============================] - 0s 134ms/step - loss: 1.1486 - accuracy: 0.8333 - val_loss: 2.9336 - val_accuracy: 0.3000\n",
            "Epoch 14/15\n",
            "1/1 [==============================] - 0s 152ms/step - loss: 0.9897 - accuracy: 0.7500 - val_loss: 3.1658 - val_accuracy: 0.1000\n",
            "Epoch 15/15\n",
            "1/1 [==============================] - 0s 137ms/step - loss: 0.8126 - accuracy: 0.8333 - val_loss: 3.3121 - val_accuracy: 0.1000\n"
          ],
          "name": "stdout"
        }
      ]
    },
    {
      "cell_type": "code",
      "metadata": {
        "id": "36X8FbbgOhTf",
        "colab": {
          "base_uri": "https://localhost:8080/",
          "height": 513
        },
        "outputId": "d559e43f-df22-46de-a7a1-ec3c9cab5e07"
      },
      "source": [
        "# Learning curves \n",
        "\n",
        "acc = history.history['accuracy']\n",
        "val_acc = history.history['val_accuracy']\n",
        "loss=history.history['loss']\n",
        "val_loss=history.history['val_loss']\n",
        "\n",
        "plt.figure(figsize=(16,8))\n",
        "plt.subplot(1, 2, 1)\n",
        "plt.plot(acc, label='Training Accuracy')\n",
        "plt.plot(val_acc, label='Validation Accuracy')\n",
        "plt.legend(loc='lower right')\n",
        "plt.title('Training and Validation Accuracy')\n",
        "plt.xlabel(\"epochs\")\n",
        "plt.ylabel(\"accuracy\")\n",
        "\n",
        "plt.subplot(1, 2, 2)\n",
        "plt.plot(loss, label='Training Loss')\n",
        "plt.plot(val_loss, label='Validation Loss')\n",
        "plt.legend(loc='upper right')\n",
        "plt.title('Training and Validation Loss')\n",
        "plt.xlabel(\"epochs\")\n",
        "plt.ylabel(\"loss\")\n",
        "plt.show()"
      ],
      "execution_count": 215,
      "outputs": [
        {
          "output_type": "display_data",
          "data": {
            "image/png": "[encoded data removed]",
            "text/plain": [
              "<Figure size 1152x576 with 2 Axes>"
            ]
          },
          "metadata": {
            "tags": [],
            "needs_background": "light"
          }
        }
      ]
    },
    {
      "cell_type": "markdown",
      "metadata": {
        "id": "qBmXCUoUct-Y"
      },
      "source": [
        "## GRU"
      ]
    },
    {
      "cell_type": "code",
      "metadata": {
        "id": "xzIyloY3cyoD"
      },
      "source": [
        "def define_model3(vocab_size, max_length):\n",
        "    model3 = Sequential()\n",
        "    model3.add(Embedding(vocab_size,300, input_length=max_length))\n",
        "    model3.add(GRU(500))\n",
        "    model3.add(Dense(10, activation='softmax'))\n",
        "    \n",
        "    model3.compile(loss = 'categorical_crossentropy',optimizer = 'adam',metrics = ['accuracy'])\n",
        "    \n",
        "    # summarize defined model\n",
        "    model3.summary()\n",
        "    return model3"
      ],
      "execution_count": 216,
      "outputs": []
    },
    {
      "cell_type": "code",
      "metadata": {
        "id": "qEXaR-g4cylS",
        "colab": {
          "base_uri": "https://localhost:8080/"
        },
        "outputId": "b8071e06-098e-4878-fae7-84a628aa0673"
      },
      "source": [
        "model3 = define_model3(vocab_size, max_length)"
      ],
      "execution_count": 217,
      "outputs": [
        {
          "output_type": "stream",
          "text": [
            "Model: \"sequential_14\"\n",
            "_________________________________________________________________\n",
            "Layer (type)                 Output Shape              Param #   \n",
            "=================================================================\n",
            "embedding_14 (Embedding)     (None, 10, 300)           19800     \n",
            "_________________________________________________________________\n",
            "gru_1 (GRU)                  (None, 500)               1203000   \n",
            "_________________________________________________________________\n",
            "dense_21 (Dense)             (None, 10)                5010      \n",
            "=================================================================\n",
            "Total params: 1,227,810\n",
            "Trainable params: 1,227,810\n",
            "Non-trainable params: 0\n",
            "_________________________________________________________________\n"
          ],
          "name": "stdout"
        }
      ]
    },
    {
      "cell_type": "code",
      "metadata": {
        "id": "49hqm9sWc1ED",
        "colab": {
          "base_uri": "https://localhost:8080/"
        },
        "outputId": "b5da6e36-1690-4bd7-9f26-4706bf58a724"
      },
      "source": [
        "history = model3.fit(X_train, y_train, epochs=15, verbose=1,validation_data=(X_test,y_test))"
      ],
      "execution_count": 218,
      "outputs": [
        {
          "output_type": "stream",
          "text": [
            "Epoch 1/15\n",
            "1/1 [==============================] - 3s 3s/step - loss: 2.2963 - accuracy: 0.1667 - val_loss: 2.2994 - val_accuracy: 0.1000\n",
            "Epoch 2/15\n",
            "1/1 [==============================] - 0s 111ms/step - loss: 2.2264 - accuracy: 0.4167 - val_loss: 2.3005 - val_accuracy: 0.0000e+00\n",
            "Epoch 3/15\n",
            "1/1 [==============================] - 0s 115ms/step - loss: 2.1566 - accuracy: 0.5000 - val_loss: 2.3111 - val_accuracy: 0.0000e+00\n",
            "Epoch 4/15\n",
            "1/1 [==============================] - 0s 115ms/step - loss: 2.0827 - accuracy: 0.4167 - val_loss: 2.3387 - val_accuracy: 0.0000e+00\n",
            "Epoch 5/15\n",
            "1/1 [==============================] - 0s 106ms/step - loss: 2.0044 - accuracy: 0.4167 - val_loss: 2.3938 - val_accuracy: 0.0000e+00\n",
            "Epoch 6/15\n",
            "1/1 [==============================] - 0s 116ms/step - loss: 1.9252 - accuracy: 0.4167 - val_loss: 2.4745 - val_accuracy: 0.0000e+00\n",
            "Epoch 7/15\n",
            "1/1 [==============================] - 0s 109ms/step - loss: 1.8452 - accuracy: 0.4167 - val_loss: 2.5368 - val_accuracy: 0.0000e+00\n",
            "Epoch 8/15\n",
            "1/1 [==============================] - 0s 119ms/step - loss: 1.7445 - accuracy: 0.4167 - val_loss: 2.5311 - val_accuracy: 0.0000e+00\n",
            "Epoch 9/15\n",
            "1/1 [==============================] - 0s 148ms/step - loss: 1.5984 - accuracy: 0.4167 - val_loss: 2.4586 - val_accuracy: 0.1000\n",
            "Epoch 10/15\n",
            "1/1 [==============================] - 0s 122ms/step - loss: 1.4272 - accuracy: 0.5000 - val_loss: 2.4094 - val_accuracy: 0.2000\n",
            "Epoch 11/15\n",
            "1/1 [==============================] - 0s 120ms/step - loss: 1.3327 - accuracy: 0.4167 - val_loss: 2.4926 - val_accuracy: 0.2000\n",
            "Epoch 12/15\n",
            "1/1 [==============================] - 0s 151ms/step - loss: 1.3310 - accuracy: 0.4167 - val_loss: 2.5734 - val_accuracy: 0.1000\n",
            "Epoch 13/15\n",
            "1/1 [==============================] - 0s 132ms/step - loss: 1.2115 - accuracy: 0.5000 - val_loss: 2.7208 - val_accuracy: 0.1000\n",
            "Epoch 14/15\n",
            "1/1 [==============================] - 0s 127ms/step - loss: 1.0832 - accuracy: 0.5833 - val_loss: 2.9331 - val_accuracy: 0.0000e+00\n",
            "Epoch 15/15\n",
            "1/1 [==============================] - 0s 117ms/step - loss: 1.0151 - accuracy: 0.5000 - val_loss: 3.1197 - val_accuracy: 0.1000\n"
          ],
          "name": "stdout"
        }
      ]
    },
    {
      "cell_type": "code",
      "metadata": {
        "id": "xDKC13iBc3Bw",
        "colab": {
          "base_uri": "https://localhost:8080/",
          "height": 513
        },
        "outputId": "fb4ff52f-419b-4d2f-d781-446632aa796d"
      },
      "source": [
        "# Learning curves \n",
        "\n",
        "acc = history.history['accuracy']\n",
        "val_acc = history.history['val_accuracy']\n",
        "loss=history.history['loss']\n",
        "val_loss=history.history['val_loss']\n",
        "\n",
        "plt.figure(figsize=(16,8))\n",
        "plt.subplot(1, 2, 1)\n",
        "plt.plot(acc, label='Training Accuracy')\n",
        "plt.plot(val_acc, label='Validation Accuracy')\n",
        "plt.legend(loc='lower right')\n",
        "plt.title('Training and Validation Accuracy')\n",
        "plt.xlabel(\"epochs\")\n",
        "plt.ylabel(\"accuracy\")\n",
        "\n",
        "plt.subplot(1, 2, 2)\n",
        "plt.plot(loss, label='Training Loss')\n",
        "plt.plot(val_loss, label='Validation Loss')\n",
        "plt.legend(loc='upper right')\n",
        "plt.title('Training and Validation Loss')\n",
        "plt.xlabel(\"epochs\")\n",
        "plt.ylabel(\"loss\")\n",
        "plt.show()"
      ],
      "execution_count": 219,
      "outputs": [
        {
          "output_type": "display_data",
          "data": {
            "image/png": "[encoded data removed]",
            "text/plain": [
              "<Figure size 1152x576 with 2 Axes>"
            ]
          },
          "metadata": {
            "tags": [],
            "needs_background": "light"
          }
        }
      ]
    },
    {
      "cell_type": "markdown",
      "metadata": {
        "id": "YJ2romsAsshs"
      },
      "source": [
        "## BiLSTM\n"
      ]
    },
    {
      "cell_type": "code",
      "metadata": {
        "id": "b02HsFGVs0WV"
      },
      "source": [
        "def define_model3(vocab_size, max_length):\n",
        "    model3 = Sequential()\n",
        "    model3.add(Embedding(vocab_size,300, input_length=max_length))\n",
        "    model3.add(Bidirectional(LSTM(500)))\n",
        "    model3.add(Dense(10, activation='softmax'))\n",
        "    \n",
        "    model3.compile(loss = 'categorical_crossentropy',optimizer = 'adam',metrics = ['accuracy'])\n",
        "    \n",
        "    # summarize defined model\n",
        "    model3.summary()\n",
        "    return model3"
      ],
      "execution_count": 220,
      "outputs": []
    },
    {
      "cell_type": "code",
      "metadata": {
        "id": "I4VV9MlFs1Va",
        "colab": {
          "base_uri": "https://localhost:8080/"
        },
        "outputId": "2c1f7a8a-5f09-4d3c-aa1d-86adb03de019"
      },
      "source": [
        "model3 = define_model3(vocab_size, max_length)"
      ],
      "execution_count": 221,
      "outputs": [
        {
          "output_type": "stream",
          "text": [
            "Model: \"sequential_15\"\n",
            "_________________________________________________________________\n",
            "Layer (type)                 Output Shape              Param #   \n",
            "=================================================================\n",
            "embedding_15 (Embedding)     (None, 10, 300)           19800     \n",
            "_________________________________________________________________\n",
            "bidirectional_2 (Bidirection (None, 1000)              3204000   \n",
            "_________________________________________________________________\n",
            "dense_22 (Dense)             (None, 10)                10010     \n",
            "=================================================================\n",
            "Total params: 3,233,810\n",
            "Trainable params: 3,233,810\n",
            "Non-trainable params: 0\n",
            "_________________________________________________________________\n"
          ],
          "name": "stdout"
        }
      ]
    },
    {
      "cell_type": "code",
      "metadata": {
        "id": "xfNlWQazs1Sa",
        "colab": {
          "base_uri": "https://localhost:8080/"
        },
        "outputId": "34d4b707-9efd-4f6f-de1c-af46e0b2950a"
      },
      "source": [
        "history = model3.fit(X_train, y_train, epochs=10, verbose=1,validation_data=(X_test,y_test))"
      ],
      "execution_count": 222,
      "outputs": [
        {
          "output_type": "stream",
          "text": [
            "Epoch 1/10\n",
            "1/1 [==============================] - 4s 4s/step - loss: 2.3017 - accuracy: 0.1667 - val_loss: 2.2861 - val_accuracy: 0.0000e+00\n",
            "Epoch 2/10\n",
            "1/1 [==============================] - 0s 223ms/step - loss: 2.2295 - accuracy: 0.5833 - val_loss: 2.2763 - val_accuracy: 0.0000e+00\n",
            "Epoch 3/10\n",
            "1/1 [==============================] - 0s 222ms/step - loss: 2.1526 - accuracy: 0.5000 - val_loss: 2.2730 - val_accuracy: 0.0000e+00\n",
            "Epoch 4/10\n",
            "1/1 [==============================] - 0s 210ms/step - loss: 2.0601 - accuracy: 0.4167 - val_loss: 2.2967 - val_accuracy: 0.0000e+00\n",
            "Epoch 5/10\n",
            "1/1 [==============================] - 0s 211ms/step - loss: 1.9492 - accuracy: 0.4167 - val_loss: 2.4166 - val_accuracy: 0.1000\n",
            "Epoch 6/10\n",
            "1/1 [==============================] - 0s 211ms/step - loss: 1.8512 - accuracy: 0.3333 - val_loss: 2.5602 - val_accuracy: 0.1000\n",
            "Epoch 7/10\n",
            "1/1 [==============================] - 0s 225ms/step - loss: 1.7676 - accuracy: 0.5000 - val_loss: 2.4830 - val_accuracy: 0.1000\n",
            "Epoch 8/10\n",
            "1/1 [==============================] - 0s 211ms/step - loss: 1.6121 - accuracy: 0.5833 - val_loss: 2.3687 - val_accuracy: 0.1000\n",
            "Epoch 9/10\n",
            "1/1 [==============================] - 0s 208ms/step - loss: 1.4507 - accuracy: 0.6667 - val_loss: 2.3106 - val_accuracy: 0.1000\n",
            "Epoch 10/10\n",
            "1/1 [==============================] - 0s 225ms/step - loss: 1.2893 - accuracy: 1.0000 - val_loss: 2.3468 - val_accuracy: 0.1000\n"
          ],
          "name": "stdout"
        }
      ]
    },
    {
      "cell_type": "code",
      "metadata": {
        "id": "_XGvXqCfs1Qf",
        "colab": {
          "base_uri": "https://localhost:8080/",
          "height": 513
        },
        "outputId": "45e3d1d9-1171-4f92-9a6e-53c29ff8583e"
      },
      "source": [
        "# Learning curves \n",
        "\n",
        "acc = history.history['accuracy']\n",
        "val_acc = history.history['val_accuracy']\n",
        "loss=history.history['loss']\n",
        "val_loss=history.history['val_loss']\n",
        "\n",
        "plt.figure(figsize=(16,8))\n",
        "plt.subplot(1, 2, 1)\n",
        "plt.plot(acc, label='Training Accuracy')\n",
        "plt.plot(val_acc, label='Validation Accuracy')\n",
        "plt.legend(loc='lower right')\n",
        "plt.title('Training and Validation Accuracy')\n",
        "plt.xlabel(\"epochs\")\n",
        "plt.ylabel(\"accuracy\")\n",
        "\n",
        "plt.subplot(1, 2, 2)\n",
        "plt.plot(loss, label='Training Loss')\n",
        "plt.plot(val_loss, label='Validation Loss')\n",
        "plt.legend(loc='upper right')\n",
        "plt.title('Training and Validation Loss')\n",
        "plt.xlabel(\"epochs\")\n",
        "plt.ylabel(\"loss\")\n",
        "plt.show()"
      ],
      "execution_count": 223,
      "outputs": [
        {
          "output_type": "display_data",
          "data": {
            "image/png": "[encoded data removed]",
            "text/plain": [
              "<Figure size 1152x576 with 2 Axes>"
            ]
          },
          "metadata": {
            "tags": [],
            "needs_background": "light"
          }
        }
      ]
    },
    {
      "cell_type": "markdown",
      "metadata": {
        "id": "3I8Ykx3HGacK"
      },
      "source": [
        "Future scope -\n",
        "* embedding layer : GloVe\n",
        "* cross validation for testing\n",
        "* grid search CV"
      ]
    },
    {
      "cell_type": "markdown",
      "metadata": {
        "id": "xL1vugJNLy5x"
      },
      "source": [
        "## Predictions"
      ]
    },
    {
      "cell_type": "code",
      "metadata": {
        "id": "SnWEw7d5TcOv"
      },
      "source": [
        "import tensorflow as tf\n",
        "tf.get_logger().setLevel('ERROR')"
      ],
      "execution_count": 224,
      "outputs": []
    },
    {
      "cell_type": "code",
      "metadata": {
        "id": "rnB6-nG6SelW"
      },
      "source": [
        "def get_text(str_text):\n",
        "    # print(str_text)\n",
        "    input_text  = [str_text]\n",
        "    df_input = pd.DataFrame(input_text,columns=['questions'])\n",
        "    df_input\n",
        "    return df_input"
      ],
      "execution_count": 225,
      "outputs": []
    },
    {
      "cell_type": "code",
      "metadata": {
        "id": "1101EozZSefs"
      },
      "source": [
        "from tensorflow.keras.models import load_model\n",
        "model = model2\n",
        "tokenizer_t = joblib.load('tokenizer_t.pkl')\n",
        "vocab = joblib.load('vocab.pkl')"
      ],
      "execution_count": 226,
      "outputs": []
    },
    {
      "cell_type": "code",
      "metadata": {
        "id": "c51lst4wSedH"
      },
      "source": [
        "def tokenizer(entry):\n",
        "    tokens = entry.split()\n",
        "    re_punc = re.compile('[%s]' % re.escape(string.punctuation))\n",
        "    tokens = [re_punc.sub('', w) for w in tokens]\n",
        "    tokens = [word for word in tokens if word.isalpha()]\n",
        "    tokens = [lemmatizer.lemmatize(w.lower()) for w in tokens]\n",
        "    # stop_words = set(stopwords.words('english'))\n",
        "    # tokens = [w for w in tokens if not w in stop_words]\n",
        "    tokens = [word.lower() for word in tokens if len(word) > 1]\n",
        "    return tokens"
      ],
      "execution_count": 227,
      "outputs": []
    },
    {
      "cell_type": "code",
      "metadata": {
        "id": "FK79K154Sp4y"
      },
      "source": [
        "def remove_stop_words_for_input(tokenizer,df,feature):\n",
        "    doc_without_stopwords = []\n",
        "    entry = df[feature][0]\n",
        "    tokens = tokenizer(entry)\n",
        "    doc_without_stopwords.append(' '.join(tokens))\n",
        "    df[feature] = doc_without_stopwords\n",
        "    return df"
      ],
      "execution_count": 228,
      "outputs": []
    },
    {
      "cell_type": "code",
      "metadata": {
        "id": "afJXXfckSp1u"
      },
      "source": [
        "def encode_input_text(tokenizer_t,df,feature):\n",
        "    t = tokenizer_t\n",
        "    entry = entry = [df[feature][0]]\n",
        "    encoded = t.texts_to_sequences(entry)\n",
        "    padded = pad_sequences(encoded, maxlen=16, padding='post')\n",
        "    return padded"
      ],
      "execution_count": 229,
      "outputs": []
    },
    {
      "cell_type": "code",
      "metadata": {
        "id": "aVfxwXqFSpzc"
      },
      "source": [
        "def get_pred(model,encoded_input):\n",
        "    pred = np.argmax(model.predict(encoded_input))\n",
        "    return pred"
      ],
      "execution_count": 230,
      "outputs": []
    },
    {
      "cell_type": "code",
      "metadata": {
        "id": "hoq7PSF6Sea4"
      },
      "source": [
        "def bot_precausion(df_input,pred):\n",
        "    words = df_input.questions[0].split()\n",
        "    if len([w for w in words if w in vocab])==0 :\n",
        "        pred = 1\n",
        "    return pred"
      ],
      "execution_count": 231,
      "outputs": []
    },
    {
      "cell_type": "code",
      "metadata": {
        "id": "TVP1uNDjS1D2"
      },
      "source": [
        "def get_response(df2,pred):\n",
        "    upper_bound = df2.groupby('labels').get_group(pred).shape[0]\n",
        "    r = np.random.randint(0,upper_bound)\n",
        "    responses = list(df2.groupby('labels').get_group(pred).response)\n",
        "    return responses[r]"
      ],
      "execution_count": 232,
      "outputs": []
    },
    {
      "cell_type": "code",
      "metadata": {
        "id": "AeKrDXvxS1A9"
      },
      "source": [
        "def bot_response(response,):\n",
        "    print(response)"
      ],
      "execution_count": 233,
      "outputs": []
    },
    {
      "cell_type": "code",
      "metadata": {
        "id": "9a1AmUnKS6WW",
        "colab": {
          "base_uri": "https://localhost:8080/"
        },
        "outputId": "fdee2cd3-a98f-474d-b250-548873a03c6c"
      },
      "source": [
        "# correct response\n",
        "\n",
        "df_input = get_text(\"What does it mean to have a mental illness\")\n",
        "\n",
        "# load artifacts \n",
        "tokenizer_t = joblib.load('tokenizer_t.pkl')\n",
        "vocab = joblib.load('vocab.pkl')\n",
        "\n",
        "df_input = remove_stop_words_for_input(tokenizer,df_input,'questions')\n",
        "encoded_input = encode_input_text(tokenizer_t,df_input,'questions')\n",
        "\n",
        "pred = get_pred(model1,encoded_input)\n",
        "pred = bot_precausion(df_input,pred)\n",
        "\n",
        "response = get_response(df2,pred)\n",
        "bot_response(response)"
      ],
      "execution_count": 234,
      "outputs": [
        {
          "output_type": "stream",
          "text": [
            "Just as there are different types of medications for physical illness, different treatment options are available for individuals with mental illness. Treatment works differently for different people. It is important to find what works best for you or your child.\n"
          ],
          "name": "stdout"
        }
      ]
    },
    {
      "cell_type": "code",
      "metadata": {
        "id": "7hLqCtf2Su8W",
        "colab": {
          "base_uri": "https://localhost:8080/"
        },
        "outputId": "45fce787-be44-4006-96b2-0d3a1e2bc785"
      },
      "source": [
        "# wrong response\n",
        "\n",
        "df_input = get_text(\"What treatment options are available?\")\n",
        "\n",
        "#load artifacts \n",
        "tokenizer_t = joblib.load('tokenizer_t.pkl')\n",
        "vocab = joblib.load('vocab.pkl')\n",
        "\n",
        "df_input = remove_stop_words_for_input(tokenizer,df_input,'questions')\n",
        "encoded_input = encode_input_text(tokenizer_t,df_input,'questions')\n",
        "\n",
        "pred = get_pred(model1,encoded_input)\n",
        "pred = bot_precausion(df_input,pred)\n",
        "\n",
        "response = get_response(df2,pred)\n",
        "bot_response(response)"
      ],
      "execution_count": 235,
      "outputs": [
        {
          "output_type": "stream",
          "text": [
            "Symptoms of mental health disorders vary depending on the type and severity of the condition.\n"
          ],
          "name": "stdout"
        }
      ]
    }
  ]
}